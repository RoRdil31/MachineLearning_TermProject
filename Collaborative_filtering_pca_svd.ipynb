{
  "cells": [
    {
      "cell_type": "markdown",
      "metadata": {
        "id": "view-in-github",
        "colab_type": "text"
      },
      "source": [
        "<a href=\"https://colab.research.google.com/github/RoRdil31/MachineLearning_TermProject/blob/main/Collaborative_filtering_pca_svd.ipynb\" target=\"_parent\"><img src=\"https://colab.research.google.com/assets/colab-badge.svg\" alt=\"Open In Colab\"/></a>"
      ]
    },
    {
      "cell_type": "code",
      "execution_count": null,
      "id": "d900f4ef",
      "metadata": {
        "id": "d900f4ef",
        "outputId": "803eb0e8-b14b-4d33-e4c6-086bf29bfb88"
      },
      "outputs": [
        {
          "name": "stderr",
          "output_type": "stream",
          "text": [
            "/tmp/ipykernel_15207/3954863028.py:10: DtypeWarning: Columns (10) have mixed types. Specify dtype option on import or set low_memory=False.\n",
            "  movies = pd.read_csv(\"movies_metadata.csv\")\n"
          ]
        }
      ],
      "source": [
        "import pandas as pd\n",
        "import numpy as np\n",
        "from sklearn.metrics.pairwise import cosine_similarity\n",
        "from sklearn.decomposition import PCA, TruncatedSVD\n",
        "from sklearn.model_selection import train_test_split\n",
        "from sklearn.metrics import mean_squared_error\n",
        "\n",
        "# Get movie rating data and movie information data\n",
        "ratings = pd.read_csv(\"ratings_small.csv\")\n",
        "movies = pd.read_csv(\"movies_metadata.csv\")"
      ]
    },
    {
      "cell_type": "code",
      "execution_count": null,
      "id": "e3f4803e",
      "metadata": {
        "id": "e3f4803e",
        "outputId": "24d8d6f0-3991-4002-c84e-728dcdcd1207"
      },
      "outputs": [
        {
          "name": "stdout",
          "output_type": "stream",
          "text": [
            "title   !Women Art Revolution\n",
            "userId                       \n",
            "73                        3.0\n",
            "402                       3.5\n"
          ]
        }
      ],
      "source": [
        "# Data Processing\n",
        "# Change column name\n",
        "movies.rename(columns={\"id\": \"movieId\"}, inplace=True)\n",
        "\n",
        "# Remove rows with non-numerical values in the movieId column and change the data type\n",
        "def is_number(s):\n",
        "    try:\n",
        "        float(s)\n",
        "        return True\n",
        "    except ValueError:\n",
        "        return False\n",
        "\n",
        "movies = movies[movies['movieId'].apply(is_number)]\n",
        "movies['movieId'] = movies.movieId.astype(np.int64)\n",
        "\n",
        "# Combine movie ratings and movie information to create a dataset\n",
        "movie_ratings = pd.merge(ratings, movies, on='movieId')\n",
        "# print(movie_ratings.head())\n",
        "\n",
        "# Create a user-item rating matrix and populate with missing values of zero\n",
        "data = movie_ratings.pivot_table('rating', index='userId', columns='title').fillna(0)\n",
        "data = data.transpose()\n",
        "\n",
        "movie_ratings = data[data.index == '!Women Art Revolution'].transpose()\n",
        "non_zero_values = movie_ratings[movie_ratings['!Women Art Revolution'] != 0]\n",
        "print(non_zero_values)"
      ]
    },
    {
      "cell_type": "code",
      "execution_count": null,
      "id": "e8624db2",
      "metadata": {
        "id": "e8624db2",
        "outputId": "f270ad19-aad0-4546-a1f9-cc00c39ccb7a"
      },
      "outputs": [
        {
          "name": "stdout",
          "output_type": "stream",
          "text": [
            "title\n",
            "Premium Rush            0.996097\n",
            "Shadow Run              0.759257\n",
            "The Eleventh Victim     0.759257\n",
            "The English Patient     0.650791\n",
            "Stick                   0.650791\n",
            "Steel                   0.650791\n",
            "I Can't Sleep           0.650791\n",
            "The Bride Goes Wild     0.650791\n",
            "Hornblower: Loyalty     0.650791\n",
            "The Canterbury Tales    0.650791\n",
            "Name: !Women Art Revolution, dtype: float64\n"
          ]
        }
      ],
      "source": [
        "# Calculate cosine similarity\n",
        "cossim = cosine_similarity(data)\n",
        "movie_sim_df = pd.DataFrame(cossim, index=data.index, columns=data.index)\n",
        "\n",
        "# Top 10 movies similar to a particular movie\n",
        "top_k = 10\n",
        "similar_movies = movie_sim_df[\"!Women Art Revolution\"].sort_values(ascending=False)[1:top_k+1]\n",
        "print(similar_movies)"
      ]
    },
    {
      "cell_type": "code",
      "execution_count": null,
      "id": "50c9c318",
      "metadata": {
        "scrolled": true,
        "id": "50c9c318",
        "outputId": "df9cb8ba-ddfb-4259-d8db-7f2a65c0ee6c"
      },
      "outputs": [
        {
          "data": {
            "text/plain": [
              "title\n",
              "Premium Rush                           0.998450\n",
              "Paris is Burning                       0.996717\n",
              "War of the Buttons                     0.995780\n",
              "Julie                                  0.993127\n",
              "Hornblower: Loyalty                    0.992657\n",
              "The Legend of the 7 Golden Vampires    0.992657\n",
              "Girl Shy                               0.992657\n",
              "Blind                                  0.992657\n",
              "Gladiator                              0.992657\n",
              "The Pet                                0.992374\n",
              "Name: !Women Art Revolution, dtype: float64"
            ]
          },
          "execution_count": 26,
          "metadata": {},
          "output_type": "execute_result"
        }
      ],
      "source": [
        "# Apply PCA\n",
        "pca = PCA(n_components=10)\n",
        "data_pca = pca.fit_transform(data)\n",
        "\n",
        "cossim_pca = cosine_similarity(data_pca)\n",
        "movie_sim_df_pca = pd.DataFrame(cossim_pca, index=data.index, columns=data.index)\n",
        "\n",
        "# Top 10 movies similar to a particular movie\n",
        "top_k = 10\n",
        "movie_sim_df_pca[\"!Women Art Revolution\"].sort_values(ascending=False)[1:top_k+1]"
      ]
    },
    {
      "cell_type": "code",
      "execution_count": null,
      "id": "61dcf1d4",
      "metadata": {
        "id": "61dcf1d4",
        "outputId": "948cadff-957e-4f3f-ae08-bebd0eb5f23e"
      },
      "outputs": [
        {
          "data": {
            "text/plain": [
              "title\n",
              "Premium Rush                        0.998569\n",
              "Paris is Burning                    0.986570\n",
              "War of the Buttons                  0.976640\n",
              "Bangkok Traffic Love Story          0.973665\n",
              "Last Woman on Earth                 0.973499\n",
              "5 Days of War                       0.969853\n",
              "'Twas the Night Before Christmas    0.964669\n",
              "Posti in piedi in paradiso          0.964586\n",
              "The Pebble and the Penguin          0.963995\n",
              "Hell's Hinges                       0.961613\n",
              "Name: !Women Art Revolution, dtype: float64"
            ]
          },
          "execution_count": 27,
          "metadata": {},
          "output_type": "execute_result"
        }
      ],
      "source": [
        "from sklearn.decomposition import TruncatedSVD\n",
        "\n",
        "# Apply SVD\n",
        "svd = TruncatedSVD(n_components=10)\n",
        "data_svd = svd.fit_transform(data)\n",
        "\n",
        "cossim_svd = cosine_similarity(data_svd)\n",
        "movie_sim_df_svd = pd.DataFrame(cossim_svd, index=data.index, columns=data.index)\n",
        "\n",
        "# Top 10 movies similar to a particular movie\n",
        "top_k = 10\n",
        "movie_sim_df_svd[\"!Women Art Revolution\"].sort_values(ascending=False)[1:top_k+1]"
      ]
    },
    {
      "cell_type": "code",
      "execution_count": null,
      "id": "555f4f02",
      "metadata": {
        "id": "555f4f02"
      },
      "outputs": [],
      "source": [
        "# Divide data into train and test sets\n",
        "train_data, test_data = train_test_split(data.transpose(), test_size=0.2, random_state=42)\n",
        "\n",
        "# Calculate cosine similarity\n",
        "cossim_train = cosine_similarity(train_data)\n",
        "\n",
        "# Apply PCA\n",
        "pca = PCA(n_components=10)\n",
        "data_pca_train = pca.fit_transform(train_data)\n",
        "cossim_pca_train = cosine_similarity(data_pca_train)\n",
        "\n",
        "# Apply SVD\n",
        "svd = TruncatedSVD(n_components=10)\n",
        "data_svd_train = svd.fit_transform(train_data)\n",
        "cossim_svd_train = cosine_similarity(data_svd_train)"
      ]
    },
    {
      "cell_type": "code",
      "execution_count": null,
      "id": "e7672d8d",
      "metadata": {
        "id": "e7672d8d",
        "outputId": "5a704255-8359-40a7-b823-add4d9d49d5d"
      },
      "outputs": [
        {
          "name": "stdout",
          "output_type": "stream",
          "text": [
            "코사인 유사도를 사용한 예측의 MSE: 9.788795134502578\n",
            "PCA를 사용한 예측의 MSE: 14.715668829667662\n",
            "SVD를 사용한 예측의 MSE: 22.29978761850246\n"
          ]
        }
      ],
      "source": [
        "# User-item rating prediction function\n",
        "def predict_ratings(similarity_matrix, ratings_matrix):\n",
        "    pred = similarity_matrix.dot(ratings_matrix) / np.array([np.abs(similarity_matrix).sum(axis=1)]).T\n",
        "    return pred\n",
        "\n",
        "# Calculate the predicted rating of the test data\n",
        "predicted_ratings_cosine = predict_ratings(cossim_train, train_data)\n",
        "predicted_ratings_pca = predict_ratings(cossim_pca_train, data_pca_train)\n",
        "predicted_ratings_svd = predict_ratings(cossim_svd_train, data_svd_train)\n",
        "\n",
        "# Comparison of predicted and actual ratings\n",
        "# cosine similarity\n",
        "test_data_array = np.array(test_data)\n",
        "predicted_ratings_cosine = predicted_ratings_cosine[:test_data_array.shape[0], :test_data_array.shape[1]]\n",
        "predicted_ratings_cosine[test_data_array == 0] = 0  # 실제 값이 없는 경우에 대한 예측값을 0으로 설정\n",
        "mse_cosine = mean_squared_error(test_data_array[test_data_array.nonzero()], predicted_ratings_cosine[test_data_array.nonzero()])\n",
        "\n",
        "# PCA\n",
        "test_data_array_pca = np.array(data_pca_train)\n",
        "predicted_ratings_pca = predicted_ratings_pca[:test_data_array_pca.shape[0], :test_data_array_pca.shape[1]]\n",
        "predicted_ratings_pca[test_data_array_pca == 0] = 0\n",
        "mse_pca = mean_squared_error(test_data_array_pca[test_data_array_pca.nonzero()], predicted_ratings_pca[test_data_array_pca.nonzero()])\n",
        "\n",
        "#SVD\n",
        "test_data_array_svd = np.array(data_svd_train)\n",
        "predicted_ratings_svd = predicted_ratings_svd[:test_data_array_svd.shape[0], :test_data_array_svd.shape[1]]\n",
        "predicted_ratings_svd[test_data_array_svd == 0] = 0\n",
        "mse_svd = mean_squared_error(test_data_array_svd[test_data_array_svd.nonzero()], predicted_ratings_svd[test_data_array_svd.nonzero()])\n",
        "\n",
        "# MSE output of ratings predicted by each method\n",
        "print(f\"코사인 유사도를 사용한 예측의 MSE: {mse_cosine}\")\n",
        "print(f\"PCA를 사용한 예측의 MSE: {mse_pca}\")\n",
        "print(f\"SVD를 사용한 예측의 MSE: {mse_svd}\")"
      ]
    },
    {
      "cell_type": "code",
      "execution_count": null,
      "id": "f3ffb32b",
      "metadata": {
        "id": "f3ffb32b"
      },
      "outputs": [],
      "source": []
    }
  ],
  "metadata": {
    "kernelspec": {
      "display_name": "conda_python3",
      "language": "python",
      "name": "conda_python3"
    },
    "language_info": {
      "codemirror_mode": {
        "name": "ipython",
        "version": 3
      },
      "file_extension": ".py",
      "mimetype": "text/x-python",
      "name": "python",
      "nbconvert_exporter": "python",
      "pygments_lexer": "ipython3",
      "version": "3.10.13"
    },
    "colab": {
      "provenance": [],
      "include_colab_link": true
    }
  },
  "nbformat": 4,
  "nbformat_minor": 5
}