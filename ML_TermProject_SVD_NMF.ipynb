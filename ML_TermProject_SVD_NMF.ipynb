{
  "nbformat": 4,
  "nbformat_minor": 0,
  "metadata": {
    "colab": {
      "provenance": []
    },
    "kernelspec": {
      "name": "python3",
      "display_name": "Python 3"
    },
    "language_info": {
      "name": "python"
    }
  },
  "cells": [
    {
      "cell_type": "code",
      "source": [
        "pip install scikit-surprise"
      ],
      "metadata": {
        "colab": {
          "base_uri": "https://localhost:8080/"
        },
        "id": "Kn3sEnxF4brW",
        "outputId": "3b661f08-2ec8-4a93-fa89-3adb08b34e86"
      },
      "execution_count": null,
      "outputs": [
        {
          "output_type": "stream",
          "name": "stdout",
          "text": [
            "Collecting scikit-surprise\n",
            "  Downloading scikit-surprise-1.1.3.tar.gz (771 kB)\n",
            "\u001b[?25l     \u001b[90m━━━━━━━━━━━━━━━━━━━━━━━━━━━━━━━━━━━━━━━━\u001b[0m \u001b[32m0.0/772.0 kB\u001b[0m \u001b[31m?\u001b[0m eta \u001b[36m-:--:--\u001b[0m\r\u001b[2K     \u001b[91m━━━━━━━\u001b[0m\u001b[90m╺\u001b[0m\u001b[90m━━━━━━━━━━━━━━━━━━━━━━━━━━━━━━━━\u001b[0m \u001b[32m143.4/772.0 kB\u001b[0m \u001b[31m4.2 MB/s\u001b[0m eta \u001b[36m0:00:01\u001b[0m\r\u001b[2K     \u001b[91m━━━━━━━━━━━━━━━━━━━━━━━━━━━━━━━━━━━━━━━\u001b[0m\u001b[91m╸\u001b[0m \u001b[32m768.0/772.0 kB\u001b[0m \u001b[31m13.3 MB/s\u001b[0m eta \u001b[36m0:00:01\u001b[0m\r\u001b[2K     \u001b[90m━━━━━━━━━━━━━━━━━━━━━━━━━━━━━━━━━━━━━━━━\u001b[0m \u001b[32m772.0/772.0 kB\u001b[0m \u001b[31m10.4 MB/s\u001b[0m eta \u001b[36m0:00:00\u001b[0m\n",
            "\u001b[?25h  Preparing metadata (setup.py) ... \u001b[?25l\u001b[?25hdone\n",
            "Requirement already satisfied: joblib>=1.0.0 in /usr/local/lib/python3.10/dist-packages (from scikit-surprise) (1.3.2)\n",
            "Requirement already satisfied: numpy>=1.17.3 in /usr/local/lib/python3.10/dist-packages (from scikit-surprise) (1.23.5)\n",
            "Requirement already satisfied: scipy>=1.3.2 in /usr/local/lib/python3.10/dist-packages (from scikit-surprise) (1.11.4)\n",
            "Building wheels for collected packages: scikit-surprise\n",
            "  Building wheel for scikit-surprise (setup.py) ... \u001b[?25l\u001b[?25hdone\n",
            "  Created wheel for scikit-surprise: filename=scikit_surprise-1.1.3-cp310-cp310-linux_x86_64.whl size=3163765 sha256=fc4de0226753f84a795881c3b57ebb0496ef08460745c2f31a09acca7f6e3fe7\n",
            "  Stored in directory: /root/.cache/pip/wheels/a5/ca/a8/4e28def53797fdc4363ca4af740db15a9c2f1595ebc51fb445\n",
            "Successfully built scikit-surprise\n",
            "Installing collected packages: scikit-surprise\n",
            "Successfully installed scikit-surprise-1.1.3\n"
          ]
        }
      ]
    },
    {
      "cell_type": "code",
      "source": [
        "import pandas as pd\n",
        "\n",
        "# Load the dataset\n",
        "movies_metadata = pd.read_csv('/content/sample_data/movies_metadata.csv')\n",
        "ratings = pd.read_csv('/content/sample_data/ratings_small.csv')\n",
        "\n",
        "# Dataset description\n",
        "print(movies_metadata.info())\n",
        "print(ratings.info())\n"
      ],
      "metadata": {
        "colab": {
          "base_uri": "https://localhost:8080/"
        },
        "id": "S8c6yWAt16Be",
        "outputId": "460414e9-1798-4254-a533-be6e2f798562"
      },
      "execution_count": null,
      "outputs": [
        {
          "output_type": "stream",
          "name": "stderr",
          "text": [
            "<ipython-input-3-b1e39db570c1>:4: DtypeWarning: Columns (10) have mixed types. Specify dtype option on import or set low_memory=False.\n",
            "  movies_metadata = pd.read_csv('/content/sample_data/movies_metadata.csv')\n"
          ]
        },
        {
          "output_type": "stream",
          "name": "stdout",
          "text": [
            "<class 'pandas.core.frame.DataFrame'>\n",
            "RangeIndex: 45466 entries, 0 to 45465\n",
            "Data columns (total 24 columns):\n",
            " #   Column                 Non-Null Count  Dtype  \n",
            "---  ------                 --------------  -----  \n",
            " 0   adult                  45466 non-null  object \n",
            " 1   belongs_to_collection  4494 non-null   object \n",
            " 2   budget                 45466 non-null  object \n",
            " 3   genres                 45466 non-null  object \n",
            " 4   homepage               7782 non-null   object \n",
            " 5   id                     45466 non-null  object \n",
            " 6   imdb_id                45449 non-null  object \n",
            " 7   original_language      45455 non-null  object \n",
            " 8   original_title         45466 non-null  object \n",
            " 9   overview               44512 non-null  object \n",
            " 10  popularity             45461 non-null  object \n",
            " 11  poster_path            45080 non-null  object \n",
            " 12  production_companies   45463 non-null  object \n",
            " 13  production_countries   45463 non-null  object \n",
            " 14  release_date           45379 non-null  object \n",
            " 15  revenue                45460 non-null  float64\n",
            " 16  runtime                45203 non-null  float64\n",
            " 17  spoken_languages       45460 non-null  object \n",
            " 18  status                 45379 non-null  object \n",
            " 19  tagline                20412 non-null  object \n",
            " 20  title                  45460 non-null  object \n",
            " 21  video                  45460 non-null  object \n",
            " 22  vote_average           45460 non-null  float64\n",
            " 23  vote_count             45460 non-null  float64\n",
            "dtypes: float64(4), object(20)\n",
            "memory usage: 8.3+ MB\n",
            "None\n",
            "<class 'pandas.core.frame.DataFrame'>\n",
            "RangeIndex: 100004 entries, 0 to 100003\n",
            "Data columns (total 4 columns):\n",
            " #   Column     Non-Null Count   Dtype  \n",
            "---  ------     --------------   -----  \n",
            " 0   userId     100004 non-null  int64  \n",
            " 1   movieId    100004 non-null  int64  \n",
            " 2   rating     100004 non-null  float64\n",
            " 3   timestamp  100004 non-null  int64  \n",
            "dtypes: float64(1), int64(3)\n",
            "memory usage: 3.1 MB\n",
            "None\n"
          ]
        }
      ]
    },
    {
      "cell_type": "code",
      "source": [
        "ratings.movieId = pd.to_numeric(ratings.movieId, errors='coerce')\n",
        "ratings.userId = pd.to_numeric(ratings.userId, errors='coerce')\n",
        "ratings.rating = pd.to_numeric(ratings.rating, errors='coerce')\n",
        "\n",
        "len(ratings)\n",
        "df = ratings\n",
        "print(df)"
      ],
      "metadata": {
        "colab": {
          "base_uri": "https://localhost:8080/"
        },
        "id": "oGupaheVltRu",
        "outputId": "687b31d0-476f-458d-a95b-09f8caecfe93"
      },
      "execution_count": null,
      "outputs": [
        {
          "output_type": "stream",
          "name": "stdout",
          "text": [
            "        userId  movieId  rating   timestamp\n",
            "0            1       31     2.5  1260759144\n",
            "1            1     1029     3.0  1260759179\n",
            "2            1     1061     3.0  1260759182\n",
            "3            1     1129     2.0  1260759185\n",
            "4            1     1172     4.0  1260759205\n",
            "...        ...      ...     ...         ...\n",
            "99999      671     6268     2.5  1065579370\n",
            "100000     671     6269     4.0  1065149201\n",
            "100001     671     6365     4.0  1070940363\n",
            "100002     671     6385     2.5  1070979663\n",
            "100003     671     6565     3.5  1074784724\n",
            "\n",
            "[100004 rows x 4 columns]\n"
          ]
        }
      ]
    },
    {
      "cell_type": "code",
      "source": [
        "from surprise import Reader, Dataset, KNNBasic, SVD, NMF\n",
        "from surprise.model_selection import GridSearchCV, cross_validate\n",
        "\n",
        "reader = Reader(rating_scale=(0.5, 5.0))\n",
        "\n",
        "data = Dataset.load_from_df( ratings[['userId', 'movieId', 'rating']], reader = reader )"
      ],
      "metadata": {
        "id": "tt4QgFVX3ogQ"
      },
      "execution_count": null,
      "outputs": []
    },
    {
      "cell_type": "code",
      "source": [
        "#SVD\n",
        "\n",
        "algo_svd = SVD()\n",
        "cross_validate(algo=algo_svd, data=data, measures=['RMSE'], cv=5, verbose=True)"
      ],
      "metadata": {
        "colab": {
          "base_uri": "https://localhost:8080/"
        },
        "id": "wjxmjij15Fs1",
        "outputId": "374b864c-2fda-4580-8e38-9acc147d87cb"
      },
      "execution_count": null,
      "outputs": [
        {
          "output_type": "stream",
          "name": "stdout",
          "text": [
            "Evaluating RMSE of algorithm SVD on 5 split(s).\n",
            "\n",
            "                  Fold 1  Fold 2  Fold 3  Fold 4  Fold 5  Mean    Std     \n",
            "RMSE (testset)    0.9013  0.9033  0.8912  0.8948  0.8952  0.8972  0.0045  \n",
            "Fit time          2.34    1.48    1.47    1.66    1.62    1.71    0.32    \n",
            "Test time         0.25    0.13    0.21    0.11    0.26    0.19    0.06    \n"
          ]
        },
        {
          "output_type": "execute_result",
          "data": {
            "text/plain": [
              "{'test_rmse': array([0.9013233 , 0.90332165, 0.8912006 , 0.89479572, 0.89521767]),\n",
              " 'fit_time': (2.3443784713745117,\n",
              "  1.477057695388794,\n",
              "  1.474977970123291,\n",
              "  1.6573431491851807,\n",
              "  1.6193263530731201),\n",
              " 'test_time': (0.2523932456970215,\n",
              "  0.12500572204589844,\n",
              "  0.20664763450622559,\n",
              "  0.11356186866760254,\n",
              "  0.26282215118408203)}"
            ]
          },
          "metadata": {},
          "execution_count": 6
        }
      ]
    },
    {
      "cell_type": "code",
      "source": [
        "#Fine Tuning SVD using GridSearchCV\n",
        "\n",
        "param_grid = {'n_factors' : [50, 75], 'lr_all' : [0.5, 0.05], 'reg_all' : [0.06, 0.04]}\n",
        "\n",
        "gs = GridSearchCV(algo_class=SVD, measures=['RMSE'], param_grid=param_grid)\n",
        "gs.fit(data)\n",
        "\n",
        "# Best RMSE score\n",
        "print('Best Score :', gs.best_score['rmse'])\n",
        "\n",
        "# Combination of parameters that gave the best RMSE score\n",
        "print('Best Parameters :', gs.best_params['rmse'])\n"
      ],
      "metadata": {
        "colab": {
          "base_uri": "https://localhost:8080/"
        },
        "id": "xDBQX4aU5L1p",
        "outputId": "ed307440-48ce-4fe8-8c04-df34c9bd8820"
      },
      "execution_count": null,
      "outputs": [
        {
          "output_type": "stream",
          "name": "stdout",
          "text": [
            "Best Score : 0.8889549479313089\n",
            "Best Parameters : {'n_factors': 75, 'lr_all': 0.05, 'reg_all': 0.06}\n"
          ]
        }
      ]
    },
    {
      "cell_type": "code",
      "source": [
        "#SVD_train\n",
        "\n",
        "from surprise.model_selection import train_test_split\n",
        "import random\n",
        "import numpy as np\n",
        "\n",
        "random.seed(42)\n",
        "np.random.seed(42)\n",
        "\n",
        "# Split the data into train and test sets\n",
        "trainset, testset = train_test_split(data, test_size=0.25)\n",
        "\n",
        "# Instantiate the SVD algorithm with the best parameters\n",
        "best_svd = SVD(n_factors=gs.best_params['rmse']['n_factors'],\n",
        "               lr_all=gs.best_params['rmse']['lr_all'],\n",
        "               reg_all=gs.best_params['rmse']['reg_all'])\n",
        "\n",
        "# Train the model on the entire dataset\n",
        "trainset = data.build_full_trainset()\n",
        "best_svd.fit(trainset)\n",
        "\n",
        "# Get a list of all movie IDs\n",
        "all_movie_ids = set(ratings['movieId'].unique())\n",
        "\n",
        "# Get a list of movie IDs rated by user 1\n",
        "rated_movie_ids_by_user = set(ratings[ratings['userId'] == 1]['movieId'].unique())\n",
        "\n",
        "# Movies that user 1 has not rated\n",
        "unrated_movies = list(all_movie_ids - rated_movie_ids_by_user)\n",
        "\n",
        "# Make predictions for unrated movies\n",
        "predictions = [best_svd.predict(1, movie_id) for movie_id in unrated_movies]\n",
        "\n",
        "# Sort predictions by estimated rating in descending order\n",
        "top_recommendations = sorted(predictions, key=lambda x: x.est, reverse=True)\n",
        "\n",
        "# Print the top 10 recommended movie titles with available information\n",
        "top_recommendations_with_info = []\n",
        "\n",
        "for prediction in top_recommendations:\n",
        "    movie_id = prediction.iid\n",
        "    movie_info = movies_metadata[movies_metadata['id'] == str(movie_id)]\n",
        "    if not movie_info.empty:\n",
        "        top_recommendations_with_info.append(prediction)\n",
        "        if len(top_recommendations_with_info) == 10:\n",
        "            break\n",
        "\n",
        "for i, prediction in enumerate(top_recommendations_with_info, start=1):\n",
        "    movie_id = prediction.iid\n",
        "    movie_title = movies_metadata[movies_metadata['id'] == str(movie_id)]['title'].values[0]\n",
        "    print(f\"{i}. {movie_title} (MovieID: {movie_id}, Predicted Rating: {prediction.est:.2f})\")"
      ],
      "metadata": {
        "colab": {
          "base_uri": "https://localhost:8080/"
        },
        "id": "ASreqRUzDgqQ",
        "outputId": "7bbcf5e9-ff3a-4de1-95d6-d1d552f27fbb"
      },
      "execution_count": null,
      "outputs": [
        {
          "output_type": "stream",
          "name": "stdout",
          "text": [
            "1. Urban Explorer (MovieID: 73290, Predicted Rating: 3.85)\n",
            "2. A Christmas Story (MovieID: 850, Predicted Rating: 3.79)\n",
            "3. More of Me (MovieID: 134881, Predicted Rating: 3.77)\n",
            "4. Gentlemen Prefer Blondes (MovieID: 759, Predicted Rating: 3.75)\n",
            "5. The In-Laws (MovieID: 5146, Predicted Rating: 3.75)\n",
            "6. License to Wed (MovieID: 2959, Predicted Rating: 3.73)\n",
            "7. Design of Death (MovieID: 114464, Predicted Rating: 3.72)\n",
            "8. The Crazy Stranger (MovieID: 5071, Predicted Rating: 3.68)\n",
            "9. The Night of the Hunter (MovieID: 3112, Predicted Rating: 3.67)\n",
            "10. Anybody's Son Will Do (MovieID: 38061, Predicted Rating: 3.66)\n"
          ]
        }
      ]
    },
    {
      "cell_type": "code",
      "source": [
        "#SVD_test\n",
        "\n",
        "# Make predictions for unrated movies in the test set\n",
        "test_predictions = [best_svd.predict(user_id, movie_id) for user_id, movie_id, _ in testset]\n",
        "\n",
        "# Sort predictions by estimated rating in descending order\n",
        "top_test_recommendations = sorted(test_predictions, key=lambda x: x.est, reverse=True)\n",
        "\n",
        "# Print the top 10 recommended movie titles with available information for the test set\n",
        "top_test_recommendations_with_info = []\n",
        "\n",
        "for prediction in top_test_recommendations:\n",
        "    movie_id = prediction.iid\n",
        "    movie_info = movies_metadata[movies_metadata['id'] == str(movie_id)]\n",
        "    if not movie_info.empty:\n",
        "        top_test_recommendations_with_info.append(prediction)\n",
        "        if len(top_test_recommendations_with_info) == 10:\n",
        "            break\n",
        "\n",
        "for i, prediction in enumerate(top_test_recommendations_with_info, start=1):\n",
        "    movie_id = prediction.iid\n",
        "    movie_title = movies_metadata[movies_metadata['id'] == str(movie_id)]['title'].values[0]\n",
        "    print(f\"{i}. {movie_title} (MovieID: {movie_id}, Predicted Rating: {prediction.est:.2f})\")\n"
      ],
      "metadata": {
        "colab": {
          "base_uri": "https://localhost:8080/"
        },
        "id": "GDf3DgNy_Rq8",
        "outputId": "0500591c-4d33-4473-e263-a2b1732d276e"
      },
      "execution_count": null,
      "outputs": [
        {
          "output_type": "stream",
          "name": "stdout",
          "text": [
            "1. Walk on Water (MovieID: 26, Predicted Rating: 5.00)\n",
            "2. Lost Horizon (MovieID: 3598, Predicted Rating: 5.00)\n",
            "3. Solaris (MovieID: 593, Predicted Rating: 5.00)\n",
            "4. Irma la Douce (MovieID: 2690, Predicted Rating: 5.00)\n",
            "5. Birdman of Alcatraz (MovieID: 898, Predicted Rating: 5.00)\n",
            "6. The Big Sleep (MovieID: 910, Predicted Rating: 5.00)\n",
            "7. Lonely Hearts (MovieID: 1252, Predicted Rating: 5.00)\n",
            "8. Hard Target (MovieID: 2019, Predicted Rating: 5.00)\n",
            "9. Confession of a Child of the Century (MovieID: 58559, Predicted Rating: 5.00)\n",
            "10. Scarface (MovieID: 111, Predicted Rating: 5.00)\n"
          ]
        }
      ]
    },
    {
      "cell_type": "code",
      "source": [
        "from surprise import accuracy\n",
        "\n",
        "# Calculate MSE for train set\n",
        "train_predictions = best_svd.test(trainset.build_testset())\n",
        "train_mse = accuracy.mse(train_predictions)\n",
        "print(f\"MSE for the train set(SVD): {train_mse}\")\n",
        "\n",
        "# Calculate MSE for test set\n",
        "test_predictions = best_svd.test(testset)\n",
        "test_mse = accuracy.mse(test_predictions)\n",
        "print(f\"MSE for the test set(SVD): {test_mse}\")\n"
      ],
      "metadata": {
        "colab": {
          "base_uri": "https://localhost:8080/"
        },
        "id": "lIpDbBHMAyzC",
        "outputId": "98ed1314-a9de-4eb2-9b50-2d813d5227be"
      },
      "execution_count": null,
      "outputs": [
        {
          "output_type": "stream",
          "name": "stdout",
          "text": [
            "MSE: 0.1814\n",
            "MSE for the train set(SVD): 0.1814159494700053\n",
            "MSE: 0.1823\n",
            "MSE for the test set(SVD): 0.182318783341357\n"
          ]
        }
      ]
    },
    {
      "cell_type": "code",
      "source": [
        "#Non-Negative Matrix Factorization (NMF)\n",
        "\n",
        "algo_nmf = NMF()\n",
        "cross_validate(data=data, algo=algo_nmf, measures=['RMSE'], cv=5, verbose=True)"
      ],
      "metadata": {
        "colab": {
          "base_uri": "https://localhost:8080/"
        },
        "id": "u-oWIfbE5dWZ",
        "outputId": "e57b4f17-e859-4c2d-bf89-16bff2fc88c1"
      },
      "execution_count": null,
      "outputs": [
        {
          "output_type": "stream",
          "name": "stdout",
          "text": [
            "Evaluating RMSE of algorithm NMF on 5 split(s).\n",
            "\n",
            "                  Fold 1  Fold 2  Fold 3  Fold 4  Fold 5  Mean    Std     \n",
            "RMSE (testset)    0.9454  0.9592  0.9394  0.9420  0.9504  0.9473  0.0070  \n",
            "Fit time          3.00    3.55    5.65    3.20    3.07    3.69    0.99    \n",
            "Test time         0.33    0.12    0.18    0.39    0.11    0.23    0.11    \n"
          ]
        },
        {
          "output_type": "execute_result",
          "data": {
            "text/plain": [
              "{'test_rmse': array([0.94540763, 0.95917567, 0.93943878, 0.9420275 , 0.95035367]),\n",
              " 'fit_time': (3.001987934112549,\n",
              "  3.549396514892578,\n",
              "  5.645415544509888,\n",
              "  3.2036197185516357,\n",
              "  3.069304943084717),\n",
              " 'test_time': (0.32621145248413086,\n",
              "  0.12238931655883789,\n",
              "  0.1818091869354248,\n",
              "  0.390850305557251,\n",
              "  0.1063385009765625)}"
            ]
          },
          "metadata": {},
          "execution_count": 11
        }
      ]
    },
    {
      "cell_type": "code",
      "source": [
        "#NMF_train\n",
        "\n",
        "import random\n",
        "import numpy as np\n",
        "from surprise.model_selection import train_test_split\n",
        "\n",
        "random.seed(42)\n",
        "np.random.seed(42)\n",
        "\n",
        "# Split the data into train and test sets\n",
        "trainset, testset = train_test_split(data, test_size=0.25)\n",
        "\n",
        "# Train the NMF model on the entire dataset\n",
        "trainset = data.build_full_trainset()\n",
        "algo_nmf.fit(trainset)\n",
        "\n",
        "# Get a list of all movie IDs\n",
        "all_movie_ids = set(ratings['movieId'].unique())\n",
        "\n",
        "# Get a list of movie IDs rated by user 1\n",
        "rated_movie_ids_by_user = set(ratings[ratings['userId'] == 1]['movieId'].unique())\n",
        "\n",
        "# Movies that user 1 has not rated\n",
        "unrated_movies = list(all_movie_ids - rated_movie_ids_by_user)\n",
        "\n",
        "# Make predictions for unrated movies\n",
        "predictions = [algo_nmf.predict(1, movie_id) for movie_id in unrated_movies]\n",
        "\n",
        "# Sort predictions by estimated rating in descending order\n",
        "top_recommendations = sorted(predictions, key=lambda x: x.est, reverse=True)\n",
        "\n",
        "# Print the top 10 recommended movie titles with available information\n",
        "top_recommendations_with_info = []\n",
        "\n",
        "for prediction in top_recommendations:\n",
        "    movie_id = prediction.iid\n",
        "    movie_info = movies_metadata[movies_metadata['id'] == str(movie_id)]\n",
        "    if not movie_info.empty:\n",
        "        top_recommendations_with_info.append(prediction)\n",
        "        if len(top_recommendations_with_info) == 10:\n",
        "            break\n",
        "\n",
        "for i, prediction in enumerate(top_recommendations_with_info, start=1):\n",
        "    movie_id = prediction.iid\n",
        "    movie_title = movies_metadata[movies_metadata['id'] == str(movie_id)]['title'].values[0]\n",
        "    print(f\"{i}. {movie_title} (MovieID: {movie_id}, Predicted Rating: {prediction.est:.2f})\")"
      ],
      "metadata": {
        "colab": {
          "base_uri": "https://localhost:8080/"
        },
        "id": "oWWAV_LPJnUS",
        "outputId": "5547280f-d8f6-4124-e8eb-768ff9cbcebe"
      },
      "execution_count": null,
      "outputs": [
        {
          "output_type": "stream",
          "name": "stdout",
          "text": [
            "1. End of the World (MovieID: 3030, Predicted Rating: 4.17)\n",
            "2. The Vampire Lovers (MovieID: 31952, Predicted Rating: 4.09)\n",
            "3. Gentlemen Prefer Blondes (MovieID: 759, Predicted Rating: 3.97)\n",
            "4. Pulgasari (MovieID: 26974, Predicted Rating: 3.96)\n",
            "5. Still Bill (MovieID: 55063, Predicted Rating: 3.94)\n",
            "6. The Return of the King (MovieID: 1361, Predicted Rating: 3.93)\n",
            "7. Veerana (MovieID: 98122, Predicted Rating: 3.91)\n",
            "8. Murder in Three Acts (MovieID: 6107, Predicted Rating: 3.90)\n",
            "9. Before Sunset (MovieID: 80, Predicted Rating: 3.85)\n",
            "10. Strangers on a Train (MovieID: 845, Predicted Rating: 3.81)\n"
          ]
        }
      ]
    },
    {
      "cell_type": "code",
      "source": [
        "#NMF_test\n",
        "\n",
        "\n",
        "# Make predictions for unrated movies in the test set\n",
        "test_predictions = [algo_nmf.predict(user_id, movie_id) for user_id, movie_id, _ in testset]\n",
        "\n",
        "# Sort predictions by estimated rating in descending order\n",
        "top_test_recommendations = sorted(test_predictions, key=lambda x: x.est, reverse=True)\n",
        "\n",
        "# Print the top 10 recommended movie titles with available information for the test set\n",
        "top_test_recommendations_with_info = []\n",
        "\n",
        "for prediction in top_test_recommendations:\n",
        "    movie_id = prediction.iid\n",
        "    movie_info = movies_metadata[movies_metadata['id'] == str(movie_id)]\n",
        "    if not movie_info.empty:\n",
        "        top_test_recommendations_with_info.append(prediction)\n",
        "        if len(top_test_recommendations_with_info) == 10:\n",
        "            break\n",
        "\n",
        "for i, prediction in enumerate(top_test_recommendations_with_info, start=1):\n",
        "    movie_id = prediction.iid\n",
        "    movie_title = movies_metadata[movies_metadata['id'] == str(movie_id)]['title'].values[0]\n",
        "    print(f\"{i}. {movie_title} (MovieID: {movie_id}, Predicted Rating: {prediction.est:.2f})\")\n"
      ],
      "metadata": {
        "colab": {
          "base_uri": "https://localhost:8080/"
        },
        "id": "2woDmZwPEi0H",
        "outputId": "b79f9ebf-03a1-4cf1-ce95-9b383cce1651"
      },
      "execution_count": null,
      "outputs": [
        {
          "output_type": "stream",
          "name": "stdout",
          "text": [
            "1. Dances with Wolves (MovieID: 581, Predicted Rating: 5.00)\n",
            "2. Terminator 3: Rise of the Machines (MovieID: 296, Predicted Rating: 5.00)\n",
            "3. Rebecca (MovieID: 223, Predicted Rating: 5.00)\n",
            "4. Terminator 3: Rise of the Machines (MovieID: 296, Predicted Rating: 5.00)\n",
            "5. Flags of Our Fathers (MovieID: 3683, Predicted Rating: 5.00)\n",
            "6. Pandora's Box (MovieID: 905, Predicted Rating: 5.00)\n",
            "7. The 39 Steps (MovieID: 260, Predicted Rating: 5.00)\n",
            "8. License to Wed (MovieID: 2959, Predicted Rating: 5.00)\n",
            "9. Murder She Said (MovieID: 750, Predicted Rating: 5.00)\n",
            "10. Confession of a Child of the Century (MovieID: 58559, Predicted Rating: 5.00)\n"
          ]
        }
      ]
    },
    {
      "cell_type": "code",
      "source": [
        "\n",
        "# Calculate MSE for train set\n",
        "train_predictions = algo_nmf.test(trainset.build_testset())\n",
        "train_mse = accuracy.mse(train_predictions)\n",
        "print(f\"MSE for the train set(NMF): {train_mse}\")\n",
        "\n",
        "# Calculate MSE for test set\n",
        "test_predictions = algo_nmf.test(testset)\n",
        "test_mse = accuracy.mse(test_predictions)\n",
        "print(f\"MSE for the test set(NMF): {test_mse}\")\n"
      ],
      "metadata": {
        "colab": {
          "base_uri": "https://localhost:8080/"
        },
        "id": "BGQEBInoHGaO",
        "outputId": "e5bf4e85-3b26-4671-f050-30fa398cb127"
      },
      "execution_count": null,
      "outputs": [
        {
          "output_type": "stream",
          "name": "stdout",
          "text": [
            "MSE: 0.4291\n",
            "MSE for the train set(NMF): 0.42912908405631817\n",
            "MSE: 0.4320\n",
            "MSE for the test set(NMF): 0.43203497034285226\n"
          ]
        }
      ]
    }
  ]
}