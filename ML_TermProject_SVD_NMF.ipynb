{
  "nbformat": 4,
  "nbformat_minor": 0,
  "metadata": {
    "colab": {
      "provenance": []
    },
    "kernelspec": {
      "name": "python3",
      "display_name": "Python 3"
    },
    "language_info": {
      "name": "python"
    }
  },
  "cells": [
    {
      "cell_type": "code",
      "source": [
        "pip install scikit-surprise"
      ],
      "metadata": {
        "colab": {
          "base_uri": "https://localhost:8080/"
        },
        "id": "Kn3sEnxF4brW",
        "outputId": "5e56970b-ad47-4826-b875-80e4acc31c06"
      },
      "execution_count": 2,
      "outputs": [
        {
          "output_type": "stream",
          "name": "stdout",
          "text": [
            "Collecting scikit-surprise\n",
            "  Downloading scikit-surprise-1.1.3.tar.gz (771 kB)\n",
            "\u001b[2K     \u001b[90m━━━━━━━━━━━━━━━━━━━━━━━━━━━━━━━━━━━━━━━━\u001b[0m \u001b[32m772.0/772.0 kB\u001b[0m \u001b[31m5.7 MB/s\u001b[0m eta \u001b[36m0:00:00\u001b[0m\n",
            "\u001b[?25h  Preparing metadata (setup.py) ... \u001b[?25l\u001b[?25hdone\n",
            "Requirement already satisfied: joblib>=1.0.0 in /usr/local/lib/python3.10/dist-packages (from scikit-surprise) (1.3.2)\n",
            "Requirement already satisfied: numpy>=1.17.3 in /usr/local/lib/python3.10/dist-packages (from scikit-surprise) (1.23.5)\n",
            "Requirement already satisfied: scipy>=1.3.2 in /usr/local/lib/python3.10/dist-packages (from scikit-surprise) (1.11.4)\n",
            "Building wheels for collected packages: scikit-surprise\n",
            "  Building wheel for scikit-surprise (setup.py) ... \u001b[?25l\u001b[?25hdone\n",
            "  Created wheel for scikit-surprise: filename=scikit_surprise-1.1.3-cp310-cp310-linux_x86_64.whl size=3163748 sha256=dc7bf12645afe3888d1b7a8222ee5985eb950f9b95c07f4e369e85b987b99b4e\n",
            "  Stored in directory: /root/.cache/pip/wheels/a5/ca/a8/4e28def53797fdc4363ca4af740db15a9c2f1595ebc51fb445\n",
            "Successfully built scikit-surprise\n",
            "Installing collected packages: scikit-surprise\n",
            "Successfully installed scikit-surprise-1.1.3\n"
          ]
        }
      ]
    },
    {
      "cell_type": "code",
      "source": [
        "import pandas as pd\n",
        "\n",
        "# Load the dataset\n",
        "movies_metadata = pd.read_csv('/content/sample_data/movies_metadata.csv')\n",
        "ratings = pd.read_csv('/content/sample_data/ratings_small.csv')\n",
        "\n",
        "# Dataset description\n",
        "print(movies_metadata.info())\n",
        "print(ratings.info())\n"
      ],
      "metadata": {
        "colab": {
          "base_uri": "https://localhost:8080/"
        },
        "id": "S8c6yWAt16Be",
        "outputId": "08c15239-11a7-444f-82f6-38ab3ba33b7f"
      },
      "execution_count": 3,
      "outputs": [
        {
          "output_type": "stream",
          "name": "stderr",
          "text": [
            "<ipython-input-3-b1e39db570c1>:4: DtypeWarning: Columns (10) have mixed types. Specify dtype option on import or set low_memory=False.\n",
            "  movies_metadata = pd.read_csv('/content/sample_data/movies_metadata.csv')\n"
          ]
        },
        {
          "output_type": "stream",
          "name": "stdout",
          "text": [
            "<class 'pandas.core.frame.DataFrame'>\n",
            "RangeIndex: 45466 entries, 0 to 45465\n",
            "Data columns (total 24 columns):\n",
            " #   Column                 Non-Null Count  Dtype  \n",
            "---  ------                 --------------  -----  \n",
            " 0   adult                  45466 non-null  object \n",
            " 1   belongs_to_collection  4494 non-null   object \n",
            " 2   budget                 45466 non-null  object \n",
            " 3   genres                 45466 non-null  object \n",
            " 4   homepage               7782 non-null   object \n",
            " 5   id                     45466 non-null  object \n",
            " 6   imdb_id                45449 non-null  object \n",
            " 7   original_language      45455 non-null  object \n",
            " 8   original_title         45466 non-null  object \n",
            " 9   overview               44512 non-null  object \n",
            " 10  popularity             45461 non-null  object \n",
            " 11  poster_path            45080 non-null  object \n",
            " 12  production_companies   45463 non-null  object \n",
            " 13  production_countries   45463 non-null  object \n",
            " 14  release_date           45379 non-null  object \n",
            " 15  revenue                45460 non-null  float64\n",
            " 16  runtime                45203 non-null  float64\n",
            " 17  spoken_languages       45460 non-null  object \n",
            " 18  status                 45379 non-null  object \n",
            " 19  tagline                20412 non-null  object \n",
            " 20  title                  45460 non-null  object \n",
            " 21  video                  45460 non-null  object \n",
            " 22  vote_average           45460 non-null  float64\n",
            " 23  vote_count             45460 non-null  float64\n",
            "dtypes: float64(4), object(20)\n",
            "memory usage: 8.3+ MB\n",
            "None\n",
            "<class 'pandas.core.frame.DataFrame'>\n",
            "RangeIndex: 100004 entries, 0 to 100003\n",
            "Data columns (total 4 columns):\n",
            " #   Column     Non-Null Count   Dtype  \n",
            "---  ------     --------------   -----  \n",
            " 0   userId     100004 non-null  int64  \n",
            " 1   movieId    100004 non-null  int64  \n",
            " 2   rating     100004 non-null  float64\n",
            " 3   timestamp  100004 non-null  int64  \n",
            "dtypes: float64(1), int64(3)\n",
            "memory usage: 3.1 MB\n",
            "None\n"
          ]
        }
      ]
    },
    {
      "cell_type": "code",
      "source": [
        "ratings.movieId = pd.to_numeric(ratings.movieId, errors='coerce')\n",
        "ratings.userId = pd.to_numeric(ratings.userId, errors='coerce')\n",
        "ratings.rating = pd.to_numeric(ratings.rating, errors='coerce')\n",
        "\n",
        "len(ratings)\n",
        "df = ratings\n",
        "print(df)"
      ],
      "metadata": {
        "colab": {
          "base_uri": "https://localhost:8080/"
        },
        "id": "oGupaheVltRu",
        "outputId": "070647ae-2ea9-4216-a985-4677bc13a6c7"
      },
      "execution_count": 4,
      "outputs": [
        {
          "output_type": "stream",
          "name": "stdout",
          "text": [
            "        userId  movieId  rating   timestamp\n",
            "0            1       31     2.5  1260759144\n",
            "1            1     1029     3.0  1260759179\n",
            "2            1     1061     3.0  1260759182\n",
            "3            1     1129     2.0  1260759185\n",
            "4            1     1172     4.0  1260759205\n",
            "...        ...      ...     ...         ...\n",
            "99999      671     6268     2.5  1065579370\n",
            "100000     671     6269     4.0  1065149201\n",
            "100001     671     6365     4.0  1070940363\n",
            "100002     671     6385     2.5  1070979663\n",
            "100003     671     6565     3.5  1074784724\n",
            "\n",
            "[100004 rows x 4 columns]\n"
          ]
        }
      ]
    },
    {
      "cell_type": "code",
      "source": [
        "from surprise import Reader, Dataset, KNNBasic, SVD, NMF\n",
        "from surprise.model_selection import GridSearchCV, cross_validate\n",
        "\n",
        "reader = Reader(rating_scale=(0.5, 5.0))\n",
        "\n",
        "data = Dataset.load_from_df( ratings[['userId', 'movieId', 'rating']], reader = reader )"
      ],
      "metadata": {
        "id": "tt4QgFVX3ogQ"
      },
      "execution_count": 5,
      "outputs": []
    },
    {
      "cell_type": "code",
      "source": [
        "#SVD\n",
        "\n",
        "algo_svd = SVD()\n",
        "cross_validate(algo=algo_svd, data=data, measures=['RMSE'], cv=5, verbose=True)"
      ],
      "metadata": {
        "colab": {
          "base_uri": "https://localhost:8080/"
        },
        "id": "wjxmjij15Fs1",
        "outputId": "9a0b0103-d9ec-47a8-ca88-519821a6a362"
      },
      "execution_count": 6,
      "outputs": [
        {
          "output_type": "stream",
          "name": "stdout",
          "text": [
            "Evaluating RMSE of algorithm SVD on 5 split(s).\n",
            "\n",
            "                  Fold 1  Fold 2  Fold 3  Fold 4  Fold 5  Mean    Std     \n",
            "RMSE (testset)    0.8945  0.9002  0.9018  0.8978  0.8889  0.8966  0.0046  \n",
            "Fit time          1.48    1.52    1.51    1.48    1.48    1.49    0.02    \n",
            "Test time         0.29    0.14    0.23    0.12    0.27    0.21    0.07    \n"
          ]
        },
        {
          "output_type": "execute_result",
          "data": {
            "text/plain": [
              "{'test_rmse': array([0.8944765 , 0.90019816, 0.90182399, 0.89783208, 0.8889074 ]),\n",
              " 'fit_time': (1.4757559299468994,\n",
              "  1.5237689018249512,\n",
              "  1.5145845413208008,\n",
              "  1.481130838394165,\n",
              "  1.478412389755249),\n",
              " 'test_time': (0.28756237030029297,\n",
              "  0.14209246635437012,\n",
              "  0.22837066650390625,\n",
              "  0.122222900390625,\n",
              "  0.26953792572021484)}"
            ]
          },
          "metadata": {},
          "execution_count": 6
        }
      ]
    },
    {
      "cell_type": "code",
      "source": [
        "#Fine Tuning SVD using GridSearchCV\n",
        "\n",
        "param_grid = {'n_factors' : [50, 75], 'lr_all' : [0.5, 0.05], 'reg_all' : [0.06, 0.04]}\n",
        "\n",
        "gs = GridSearchCV(algo_class=SVD, measures=['RMSE'], param_grid=param_grid)\n",
        "gs.fit(data)\n",
        "\n",
        "# Best RMSE score\n",
        "print('Best Score :', gs.best_score['rmse'])\n",
        "\n",
        "# Combination of parameters that gave the best RMSE score\n",
        "print('Best Parameters :', gs.best_params['rmse'])\n"
      ],
      "metadata": {
        "colab": {
          "base_uri": "https://localhost:8080/"
        },
        "id": "xDBQX4aU5L1p",
        "outputId": "a9f22004-e5cc-4744-de2e-241ed97acb50"
      },
      "execution_count": 7,
      "outputs": [
        {
          "output_type": "stream",
          "name": "stdout",
          "text": [
            "Best Score : 0.8898638506294645\n",
            "Best Parameters : {'n_factors': 75, 'lr_all': 0.05, 'reg_all': 0.06}\n"
          ]
        }
      ]
    },
    {
      "cell_type": "code",
      "source": [
        "#SVD_train\n",
        "\n",
        "from surprise.model_selection import train_test_split\n",
        "import random\n",
        "import numpy as np\n",
        "\n",
        "random.seed(42)\n",
        "np.random.seed(42)\n",
        "\n",
        "# Split the data into train and test sets\n",
        "trainset, testset = train_test_split(data, test_size=0.25)\n",
        "\n",
        "# Instantiate the SVD algorithm with the best parameters\n",
        "best_svd = SVD(n_factors=gs.best_params['rmse']['n_factors'],\n",
        "               lr_all=gs.best_params['rmse']['lr_all'],\n",
        "               reg_all=gs.best_params['rmse']['reg_all'])\n",
        "\n",
        "# Train the model on the entire dataset\n",
        "trainset = data.build_full_trainset()\n",
        "best_svd.fit(trainset)\n",
        "\n",
        "# Get a list of all movie IDs\n",
        "all_movie_ids = set(ratings['movieId'].unique())\n",
        "\n",
        "# Get a list of movie IDs rated by user 1\n",
        "rated_movie_ids_by_user = set(ratings[ratings['userId'] == 1]['movieId'].unique())\n",
        "\n",
        "# Movies that user 1 has not rated\n",
        "unrated_movies = list(all_movie_ids - rated_movie_ids_by_user)\n",
        "\n",
        "# Make predictions for unrated movies\n",
        "predictions = [best_svd.predict(1, movie_id) for movie_id in unrated_movies]\n",
        "\n",
        "# Sort predictions by estimated rating in descending order\n",
        "top_recommendations = sorted(predictions, key=lambda x: x.est, reverse=True)\n",
        "\n",
        "# Print the top 10 recommended movie titles with available information\n",
        "top_recommendations_with_info = []\n",
        "\n",
        "for prediction in top_recommendations:\n",
        "    movie_id = prediction.iid\n",
        "    movie_info = movies_metadata[movies_metadata['id'] == str(movie_id)]\n",
        "    if not movie_info.empty:\n",
        "        top_recommendations_with_info.append(prediction)\n",
        "        if len(top_recommendations_with_info) == 10:\n",
        "            break\n",
        "\n",
        "for i, prediction in enumerate(top_recommendations_with_info, start=1):\n",
        "    movie_id = prediction.iid\n",
        "    movie_title = movies_metadata[movies_metadata['id'] == str(movie_id)]['title'].values[0]\n",
        "    print(f\"{i}. {movie_title} (MovieID: {movie_id}, Predicted Rating: {prediction.est:.2f})\")"
      ],
      "metadata": {
        "colab": {
          "base_uri": "https://localhost:8080/"
        },
        "id": "ASreqRUzDgqQ",
        "outputId": "08b82cf4-30f7-4dc8-fa7a-4875e6273802"
      },
      "execution_count": 8,
      "outputs": [
        {
          "output_type": "stream",
          "name": "stdout",
          "text": [
            "1. Urban Explorer (MovieID: 73290, Predicted Rating: 3.85)\n",
            "2. A Christmas Story (MovieID: 850, Predicted Rating: 3.79)\n",
            "3. More of Me (MovieID: 134881, Predicted Rating: 3.77)\n",
            "4. Gentlemen Prefer Blondes (MovieID: 759, Predicted Rating: 3.75)\n",
            "5. The In-Laws (MovieID: 5146, Predicted Rating: 3.75)\n",
            "6. License to Wed (MovieID: 2959, Predicted Rating: 3.73)\n",
            "7. Design of Death (MovieID: 114464, Predicted Rating: 3.72)\n",
            "8. The Crazy Stranger (MovieID: 5071, Predicted Rating: 3.68)\n",
            "9. The Night of the Hunter (MovieID: 3112, Predicted Rating: 3.67)\n",
            "10. Anybody's Son Will Do (MovieID: 38061, Predicted Rating: 3.66)\n"
          ]
        }
      ]
    },
    {
      "cell_type": "code",
      "source": [
        "#SVD_test\n",
        "\n",
        "from surprise import KNNBasic\n",
        "\n",
        "# Create a KNNBasic model with user-based collaborative filtering\n",
        "knn_user = KNNBasic(sim_options={'user_based': True})\n",
        "\n",
        "# Fit the model to the data\n",
        "knn_user.fit(trainset)\n",
        "\n",
        "# Find the k-nearest neighbors of user 1\n",
        "user_neighbors = knn_user.get_neighbors(1, k=10)\n",
        "\n",
        "# Print the top 10 similar users to user 1\n",
        "print(f\"Top 10 similar users to user 1: {user_neighbors}\")\n",
        "\n",
        "# Find movies rated by these similar users that user 1 has not rated\n",
        "movies_rated_by_neighbors = []\n",
        "for neighbor in user_neighbors:\n",
        "    movies_rated_by_neighbor = [item[0] for item in trainset.ur[trainset.to_inner_uid(neighbor)]]\n",
        "    movies_rated_by_neighbors.extend(movies_rated_by_neighbor)\n",
        "\n",
        "unrated_movies = set(movies_rated_by_neighbors) - rated_movie_ids_by_user\n",
        "\n",
        "# Make predictions for unrated movies\n",
        "predictions = [best_svd.predict(1, movie_id) for movie_id in unrated_movies]\n",
        "\n",
        "# Sort predictions by estimated rating in descending order\n",
        "top_recommendations = sorted(predictions, key=lambda x: x.est, reverse=True)\n",
        "\n",
        "# Print the top 10 recommended movie titles with available information\n",
        "top_recommendations_with_info = []\n",
        "\n",
        "for i, prediction in enumerate(top_recommendations, start=1):\n",
        "    movie_id = prediction.iid\n",
        "    movie_info = movies_metadata[movies_metadata['id'] == str(movie_id)]\n",
        "    if not movie_info.empty:\n",
        "        top_recommendations_with_info.append(prediction)\n",
        "        if len(top_recommendations_with_info) == 10:\n",
        "            break\n",
        "\n",
        "for i, prediction in enumerate(top_recommendations_with_info, start=1):\n",
        "    movie_id = prediction.iid\n",
        "    movie_title = movies_metadata[movies_metadata['id'] == str(movie_id)]['title'].values[0]\n",
        "    print(f\"{i}. {movie_title} (MovieID: {movie_id}, Predicted Rating: {prediction.est:.2f})\")\n"
      ],
      "metadata": {
        "colab": {
          "base_uri": "https://localhost:8080/"
        },
        "id": "GDf3DgNy_Rq8",
        "outputId": "c37849be-effa-45ec-cdd9-eccca8775cd5"
      },
      "execution_count": 9,
      "outputs": [
        {
          "output_type": "stream",
          "name": "stdout",
          "text": [
            "Computing the msd similarity matrix...\n",
            "Done computing similarity matrix.\n",
            "Top 10 similar users to user 1: [27, 34, 140, 195, 196, 201, 208, 232, 279, 285]\n",
            "1. A Christmas Story (MovieID: 850, Predicted Rating: 3.79)\n",
            "2. Gentlemen Prefer Blondes (MovieID: 759, Predicted Rating: 3.75)\n",
            "3. Head-On (MovieID: 363, Predicted Rating: 3.63)\n",
            "4. Human Nature (MovieID: 441, Predicted Rating: 3.62)\n",
            "5. Notes on a Scandal (MovieID: 1259, Predicted Rating: 3.57)\n",
            "6. A Streetcar Named Desire (MovieID: 702, Predicted Rating: 3.57)\n",
            "7. Lassie Come Home (MovieID: 2202, Predicted Rating: 3.55)\n",
            "8. Swept from the Sea (MovieID: 1959, Predicted Rating: 3.53)\n",
            "9. Snakes on a Plane (MovieID: 326, Predicted Rating: 3.49)\n",
            "10. The Bank Dick (MovieID: 911, Predicted Rating: 3.49)\n"
          ]
        }
      ]
    },
    {
      "cell_type": "code",
      "source": [
        "from surprise import accuracy\n",
        "\n",
        "# Calculate MSE for train set\n",
        "train_predictions = best_svd.test(trainset.build_testset())\n",
        "train_mse = accuracy.mse(train_predictions)\n",
        "print(f\"MSE for the train set(SVD): {train_mse}\")\n",
        "\n",
        "# Calculate MSE for test set\n",
        "test_predictions = best_svd.test(testset)\n",
        "test_mse = accuracy.mse(test_predictions)\n",
        "print(f\"MSE for the test set(SVD): {test_mse}\")\n"
      ],
      "metadata": {
        "colab": {
          "base_uri": "https://localhost:8080/"
        },
        "id": "lIpDbBHMAyzC",
        "outputId": "d5af198a-07d1-44cd-d038-66a2b99c386d"
      },
      "execution_count": 10,
      "outputs": [
        {
          "output_type": "stream",
          "name": "stdout",
          "text": [
            "MSE: 0.1814\n",
            "MSE for the train set(SVD): 0.1814159494700053\n",
            "MSE: 0.1823\n",
            "MSE for the test set(SVD): 0.182318783341357\n"
          ]
        }
      ]
    },
    {
      "cell_type": "code",
      "source": [
        "#Non-Negative Matrix Factorization (NMF)\n",
        "\n",
        "algo_nmf = NMF()\n",
        "cross_validate(data=data, algo=algo_nmf, measures=['RMSE'], cv=5, verbose=True)"
      ],
      "metadata": {
        "colab": {
          "base_uri": "https://localhost:8080/"
        },
        "id": "u-oWIfbE5dWZ",
        "outputId": "499eff83-204d-4d4f-8122-6565d0218d73"
      },
      "execution_count": 11,
      "outputs": [
        {
          "output_type": "stream",
          "name": "stdout",
          "text": [
            "Evaluating RMSE of algorithm NMF on 5 split(s).\n",
            "\n",
            "                  Fold 1  Fold 2  Fold 3  Fold 4  Fold 5  Mean    Std     \n",
            "RMSE (testset)    0.9454  0.9592  0.9394  0.9420  0.9504  0.9473  0.0070  \n",
            "Fit time          2.60    2.60    2.66    3.80    2.58    2.85    0.48    \n",
            "Test time         0.16    0.10    0.21    0.11    0.13    0.14    0.04    \n"
          ]
        },
        {
          "output_type": "execute_result",
          "data": {
            "text/plain": [
              "{'test_rmse': array([0.94540763, 0.95917567, 0.93943878, 0.9420275 , 0.95035367]),\n",
              " 'fit_time': (2.6045079231262207,\n",
              "  2.5987815856933594,\n",
              "  2.657496690750122,\n",
              "  3.79813289642334,\n",
              "  2.5752921104431152),\n",
              " 'test_time': (0.15596652030944824,\n",
              "  0.09773492813110352,\n",
              "  0.21096134185791016,\n",
              "  0.11241650581359863,\n",
              "  0.12791895866394043)}"
            ]
          },
          "metadata": {},
          "execution_count": 11
        }
      ]
    },
    {
      "cell_type": "code",
      "source": [
        "#NMF_train\n",
        "\n",
        "import random\n",
        "import numpy as np\n",
        "from surprise.model_selection import train_test_split\n",
        "\n",
        "random.seed(42)\n",
        "np.random.seed(42)\n",
        "\n",
        "# Split the data into train and test sets\n",
        "trainset, testset = train_test_split(data, test_size=0.25)\n",
        "\n",
        "# Train the NMF model on the entire dataset\n",
        "trainset = data.build_full_trainset()\n",
        "algo_nmf.fit(trainset)\n",
        "\n",
        "# Get a list of all movie IDs\n",
        "all_movie_ids = set(ratings['movieId'].unique())\n",
        "\n",
        "# Get a list of movie IDs rated by user 1\n",
        "rated_movie_ids_by_user = set(ratings[ratings['userId'] == 1]['movieId'].unique())\n",
        "\n",
        "# Movies that user 1 has not rated\n",
        "unrated_movies = list(all_movie_ids - rated_movie_ids_by_user)\n",
        "\n",
        "# Make predictions for unrated movies\n",
        "predictions = [algo_nmf.predict(1, movie_id) for movie_id in unrated_movies]\n",
        "\n",
        "# Sort predictions by estimated rating in descending order\n",
        "top_recommendations = sorted(predictions, key=lambda x: x.est, reverse=True)\n",
        "\n",
        "# Print the top 10 recommended movie titles with available information\n",
        "top_recommendations_with_info = []\n",
        "\n",
        "for prediction in top_recommendations:\n",
        "    movie_id = prediction.iid\n",
        "    movie_info = movies_metadata[movies_metadata['id'] == str(movie_id)]\n",
        "    if not movie_info.empty:\n",
        "        top_recommendations_with_info.append(prediction)\n",
        "        if len(top_recommendations_with_info) == 10:\n",
        "            break\n",
        "\n",
        "for i, prediction in enumerate(top_recommendations_with_info, start=1):\n",
        "    movie_id = prediction.iid\n",
        "    movie_title = movies_metadata[movies_metadata['id'] == str(movie_id)]['title'].values[0]\n",
        "    print(f\"{i}. {movie_title} (MovieID: {movie_id}, Predicted Rating: {prediction.est:.2f})\")"
      ],
      "metadata": {
        "colab": {
          "base_uri": "https://localhost:8080/"
        },
        "id": "oWWAV_LPJnUS",
        "outputId": "6c08e967-b466-4dcd-9c4f-f5a8bb6c5fda"
      },
      "execution_count": 12,
      "outputs": [
        {
          "output_type": "stream",
          "name": "stdout",
          "text": [
            "1. End of the World (MovieID: 3030, Predicted Rating: 4.17)\n",
            "2. The Vampire Lovers (MovieID: 31952, Predicted Rating: 4.09)\n",
            "3. Gentlemen Prefer Blondes (MovieID: 759, Predicted Rating: 3.97)\n",
            "4. Pulgasari (MovieID: 26974, Predicted Rating: 3.96)\n",
            "5. Still Bill (MovieID: 55063, Predicted Rating: 3.94)\n",
            "6. The Return of the King (MovieID: 1361, Predicted Rating: 3.93)\n",
            "7. Veerana (MovieID: 98122, Predicted Rating: 3.91)\n",
            "8. Murder in Three Acts (MovieID: 6107, Predicted Rating: 3.90)\n",
            "9. Before Sunset (MovieID: 80, Predicted Rating: 3.85)\n",
            "10. Strangers on a Train (MovieID: 845, Predicted Rating: 3.81)\n"
          ]
        }
      ]
    },
    {
      "cell_type": "code",
      "source": [
        "#NMF_test\n",
        "\n",
        "from surprise import KNNBasic\n",
        "\n",
        "# Create a KNNBasic model with user-based collaborative filtering\n",
        "knn_user = KNNBasic(sim_options={'user_based': True})\n",
        "\n",
        "# Fit the model to the data\n",
        "knn_user.fit(trainset)\n",
        "\n",
        "# Find the k-nearest neighbors of user 1\n",
        "user_neighbors = knn_user.get_neighbors(1, k=10)\n",
        "\n",
        "# Print the top 10 similar users to user 1\n",
        "print(f\"Top 10 similar users to user 1: {user_neighbors}\")\n",
        "\n",
        "# Find movies rated by these similar users that user 1 has not rated\n",
        "movies_rated_by_neighbors = []\n",
        "for neighbor in user_neighbors:\n",
        "    movies_rated_by_neighbor = [item[0] for item in trainset.ur[trainset.to_inner_uid(neighbor)]]\n",
        "    movies_rated_by_neighbors.extend(movies_rated_by_neighbor)\n",
        "\n",
        "unrated_movies = set(movies_rated_by_neighbors) - rated_movie_ids_by_user\n",
        "\n",
        "# Make predictions for unrated movies\n",
        "predictions = [algo_nmf.predict(1, movie_id) for movie_id in unrated_movies]\n",
        "\n",
        "# Sort predictions by estimated rating in descending order\n",
        "top_recommendations = sorted(predictions, key=lambda x: x.est, reverse=True)\n",
        "\n",
        "# Print the top 10 recommended movie titles with available information\n",
        "top_recommendations_with_info = []\n",
        "\n",
        "for i, prediction in enumerate(top_recommendations, start=1):\n",
        "    movie_id = prediction.iid\n",
        "    movie_info = movies_metadata[movies_metadata['id'] == str(movie_id)]\n",
        "    if not movie_info.empty:\n",
        "        top_recommendations_with_info.append(prediction)\n",
        "        if len(top_recommendations_with_info) == 10:\n",
        "            break\n",
        "\n",
        "for i, prediction in enumerate(top_recommendations_with_info, start=1):\n",
        "    movie_id = prediction.iid\n",
        "    movie_title = movies_metadata[movies_metadata['id'] == str(movie_id)]['title'].values[0]\n",
        "    print(f\"{i}. {movie_title} (MovieID: {movie_id}, Predicted Rating: {prediction.est:.2f})\")\n"
      ],
      "metadata": {
        "colab": {
          "base_uri": "https://localhost:8080/"
        },
        "id": "qm2gqjEGAYvV",
        "outputId": "eac6c0ed-d84a-4b8f-dfae-c7c43b61abb6"
      },
      "execution_count": 13,
      "outputs": [
        {
          "output_type": "stream",
          "name": "stdout",
          "text": [
            "Computing the msd similarity matrix...\n",
            "Done computing similarity matrix.\n",
            "Top 10 similar users to user 1: [27, 34, 140, 195, 196, 201, 208, 232, 279, 285]\n",
            "1. Gentlemen Prefer Blondes (MovieID: 759, Predicted Rating: 3.97)\n",
            "2. Before Sunset (MovieID: 80, Predicted Rating: 3.85)\n",
            "3. Wild at Heart (MovieID: 483, Predicted Rating: 3.72)\n",
            "4. Saw (MovieID: 176, Predicted Rating: 3.66)\n",
            "5. Lassie Come Home (MovieID: 2202, Predicted Rating: 3.64)\n",
            "6. Within the Woods (MovieID: 2186, Predicted Rating: 3.56)\n",
            "7. Walk on Water (MovieID: 26, Predicted Rating: 3.55)\n",
            "8. Blondie Johnson (MovieID: 4112, Predicted Rating: 3.54)\n",
            "9. Unforgiven (MovieID: 33, Predicted Rating: 3.54)\n",
            "10. Paradise Now (MovieID: 67, Predicted Rating: 3.54)\n"
          ]
        }
      ]
    },
    {
      "cell_type": "code",
      "source": [
        "\n",
        "# Calculate MSE for train set\n",
        "train_predictions = algo_nmf.test(trainset.build_testset())\n",
        "train_mse = accuracy.mse(train_predictions)\n",
        "print(f\"MSE for the train set(NMF): {train_mse}\")\n",
        "\n",
        "# Calculate MSE for test set\n",
        "test_predictions = algo_nmf.test(testset)\n",
        "test_mse = accuracy.mse(test_predictions)\n",
        "print(f\"MSE for the test set(NMF): {test_mse}\")\n"
      ],
      "metadata": {
        "colab": {
          "base_uri": "https://localhost:8080/"
        },
        "id": "BGQEBInoHGaO",
        "outputId": "0342cbf1-66e1-4ea4-e7e2-e37b0fe6d261"
      },
      "execution_count": 14,
      "outputs": [
        {
          "output_type": "stream",
          "name": "stdout",
          "text": [
            "MSE: 0.4291\n",
            "MSE for the train set(NMF): 0.42912908405631817\n",
            "MSE: 0.4320\n",
            "MSE for the test set(NMF): 0.43203497034285226\n"
          ]
        }
      ]
    }
  ]
}