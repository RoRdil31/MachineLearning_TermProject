{
  "nbformat": 4,
  "nbformat_minor": 0,
  "metadata": {
    "colab": {
      "provenance": []
    },
    "kernelspec": {
      "name": "python3",
      "display_name": "Python 3"
    },
    "language_info": {
      "name": "python"
    }
  },
  "cells": [
    {
      "cell_type": "markdown",
      "source": [
        "< Machine Learning >\n",
        "\n",
        "Term Project : Recommendation System\n",
        "\n",
        "Content Filtering : K-means Clustering"
      ],
      "metadata": {
        "id": "Pj-CvlNNMImT"
      }
    },
    {
      "cell_type": "code",
      "source": [
        "import numpy as np\n",
        "import pandas as pd\n",
        "import pylab as pl\n",
        "from sklearn.cluster import KMeans\n",
        "from sklearn.decomposition import PCA\n",
        "import matplotlib.pyplot as plt\n",
        "import seaborn as sns\n",
        "%matplotlib inline\n",
        "import warnings\n",
        "warnings.filterwarnings(\"ignore\")\n",
        "\n",
        "df = pd.read_csv(\"movies_metadata.csv\")\n",
        "\n",
        "# 숫자 column 아닌 거 drop.\n",
        "df.drop(df.index[19730],inplace=True)\n",
        "df.drop(df.index[29502],inplace=True)\n",
        "df.drop(df.index[35585],inplace=True)\n",
        "\n",
        "df_numeric = df[['budget','popularity','revenue','runtime','vote_average','vote_count','title']]\n",
        "print(df_numeric.head(),\"\\n\")\n",
        "\n",
        "# Check Null.\n",
        "print(df_numeric.isnull().sum(),\"\\n\")\n",
        "df_numeric.dropna(inplace=True)\n",
        "\n"
      ],
      "metadata": {
        "colab": {
          "base_uri": "https://localhost:8080/"
        },
        "id": "OdSv4JQ3_XYu",
        "outputId": "38c79214-a72c-4141-91e9-be6319510814"
      },
      "execution_count": null,
      "outputs": [
        {
          "output_type": "stream",
          "name": "stdout",
          "text": [
            "     budget popularity      revenue  runtime  vote_average  vote_count  \\\n",
            "0  30000000  21.946943  373554033.0     81.0           7.7      5415.0   \n",
            "1  65000000  17.015539  262797249.0    104.0           6.9      2413.0   \n",
            "2         0    11.7129          0.0    101.0           6.5        92.0   \n",
            "3  16000000   3.859495   81452156.0    127.0           6.1        34.0   \n",
            "4         0   8.387519   76578911.0    106.0           5.7       173.0   \n",
            "\n",
            "                         title  \n",
            "0                    Toy Story  \n",
            "1                      Jumanji  \n",
            "2             Grumpier Old Men  \n",
            "3            Waiting to Exhale  \n",
            "4  Father of the Bride Part II   \n",
            "\n",
            "budget            0\n",
            "popularity        3\n",
            "revenue           3\n",
            "runtime         260\n",
            "vote_average      3\n",
            "vote_count        3\n",
            "title             3\n",
            "dtype: int64 \n",
            "\n"
          ]
        }
      ]
    },
    {
      "cell_type": "code",
      "execution_count": null,
      "metadata": {
        "colab": {
          "base_uri": "https://localhost:8080/"
        },
        "id": "pFvOrpDg_O57",
        "outputId": "a61da5b5-0400-4a70-d2bb-4fa21182165e"
      },
      "outputs": [
        {
          "output_type": "stream",
          "name": "stdout",
          "text": [
            "count    12178.000000\n",
            "mean       388.336591\n",
            "std        891.671853\n",
            "min         31.000000\n",
            "25%         50.000000\n",
            "50%         99.000000\n",
            "75%        299.000000\n",
            "max      14075.000000\n",
            "Name: vote_count, dtype: float64 \n",
            "\n",
            "0.74     283.00\n",
            "0.75     299.00\n",
            "0.76     317.00\n",
            "0.77     335.00\n",
            "0.78     356.00\n",
            "0.79     375.00\n",
            "0.80     396.00\n",
            "0.81     425.37\n",
            "0.82     454.00\n",
            "0.83     495.82\n",
            "0.84     533.00\n",
            "0.85     574.00\n",
            "0.86     628.00\n",
            "0.87     685.99\n",
            "0.88     753.00\n",
            "0.89     840.53\n",
            "0.90     924.00\n",
            "0.91    1021.07\n",
            "0.92    1148.00\n",
            "0.93    1318.83\n",
            "0.94    1518.38\n",
            "0.95    1730.45\n",
            "0.96    2086.68\n",
            "0.97    2550.00\n",
            "0.98    3298.60\n",
            "0.99    4732.68\n",
            "Name: vote_count, dtype: float64 \n",
            "\n"
          ]
        }
      ],
      "source": [
        "# 영화 얼마나 평가되었는 지 확인.\n",
        "print(df_numeric['vote_count'].describe(),\"\\n\")\n",
        "\n",
        "# 대부분(50%) 영화가 10번 미만으로 평가됨. 따라서 30표 이상(상위 26%)으로 얻은 영화만 가져오기.\n",
        "print(df_numeric['vote_count'].quantile(np.arange(.74,1,0.01)),\"\\n\")\n",
        "\n",
        "df_numeric = df_numeric[df_numeric['vote_count']>30]\n",
        "# print(df_numeric.shape) # (12178, 7)\n",
        "\n"
      ]
    },
    {
      "cell_type": "code",
      "source": [
        "#@title Data Normalization\n",
        "\n",
        "from sklearn import preprocessing\n",
        "\n",
        "minmax_processed = preprocessing.MinMaxScaler().fit_transform(df_numeric.drop('title',axis=1))\n",
        "\n",
        "df_numeric_scaled = pd.DataFrame(minmax_processed, index=df_numeric.index, columns=df_numeric.columns[:-1])\n",
        "\n",
        "print(df_numeric_scaled.head())\n",
        "\n"
      ],
      "metadata": {
        "colab": {
          "base_uri": "https://localhost:8080/"
        },
        "id": "1jjl_a-iMbdN",
        "outputId": "ba6c7ed4-bbc7-43dd-a91e-9b2ff8e9a3ea"
      },
      "execution_count": null,
      "outputs": [
        {
          "output_type": "stream",
          "name": "stdout",
          "text": [
            "     budget  popularity   revenue   runtime  vote_average  vote_count\n",
            "0  0.078947    0.040082  0.133988  0.092360      0.810526    0.383367\n",
            "1  0.171053    0.031075  0.094261  0.118586      0.726316    0.169610\n",
            "2  0.000000    0.021389  0.000000  0.115165      0.684211    0.004343\n",
            "3  0.042105    0.007045  0.029216  0.144812      0.642105    0.000214\n",
            "4  0.000000    0.015315  0.027468  0.120867      0.600000    0.010111\n"
          ]
        }
      ]
    },
    {
      "cell_type": "code",
      "source": [
        "#@title Select K using Elbow before Use K-Means Clustering\n",
        "\n",
        "# Select k using Elbow. (1~15)\n",
        "Nc = range(1, 15)\n",
        "kmeans = [KMeans(n_clusters=i) for i in Nc]\n",
        "\n",
        "score = [kmeans[i].fit(df_numeric_scaled).score(df_numeric_scaled) for i in range(len(kmeans))]\n",
        "\n",
        "pl.plot(Nc,score)\n",
        "pl.xlabel('Number of Clusters')\n",
        "pl.ylabel('Score')\n",
        "pl.title('Elbow Curve')\n",
        "pl.show()\n",
        "\n"
      ],
      "metadata": {
        "colab": {
          "base_uri": "https://localhost:8080/",
          "height": 472
        },
        "id": "BykHEhTPM8ba",
        "outputId": "03ee3282-3ed3-4e68-be73-00146f9f30dc"
      },
      "execution_count": null,
      "outputs": [
        {
          "output_type": "display_data",
          "data": {
            "text/plain": [
              "<Figure size 640x480 with 1 Axes>"
            ],
            "image/png": "[encoded data removed]"
          },
          "metadata": {}
        }
      ]
    },
    {
      "cell_type": "code",
      "source": [
        "#@title Get k=5) fit and result K-means Clustering\n",
        "\n",
        "kmeans = KMeans(n_clusters=5)\n",
        "kmeans.fit(df_numeric_scaled)\n",
        "\n",
        "# print(len(kmeans.labels_)) # 12178\n",
        "\n",
        "df_numeric['cluster'] = kmeans.labels_\n",
        "\n",
        "# print(df_numeric.head(),\"\\n\") # check labeling\n",
        "\n",
        "plt.figure(figsize=(12,7))\n",
        "axis = sns.barplot(x=np.arange(0,5,1),y=df_numeric.groupby(['cluster']).count()['budget'].values)\n",
        "x=axis.set_xlabel(\"Cluster Number\")\n",
        "x=axis.set_ylabel(\"Number of movies\")\n",
        "\n",
        "print(df_numeric.groupby(['cluster']).mean(),\"\\n\")\n",
        "\n"
      ],
      "metadata": {
        "colab": {
          "base_uri": "https://localhost:8080/",
          "height": 546
        },
        "id": "bwFVeyAmNmZH",
        "outputId": "638ee354-9a09-4400-e726-c18acbd478a7"
      },
      "execution_count": null,
      "outputs": [
        {
          "output_type": "stream",
          "name": "stdout",
          "text": [
            "              revenue     runtime  vote_average   vote_count\n",
            "cluster                                                     \n",
            "0        1.041162e+07   93.744831      4.941971   123.530136\n",
            "1        1.651612e+08  114.280036      6.219964  1152.371274\n",
            "2        1.678100e+07  109.915865      7.278178   303.730769\n",
            "3        1.463550e+07  100.451364      6.188294   170.910019\n",
            "4        6.358566e+08  126.371542      6.917787  4802.359684 \n",
            "\n"
          ]
        },
        {
          "output_type": "display_data",
          "data": {
            "text/plain": [
              "<Figure size 1200x700 with 1 Axes>"
            ],
            "image/png": "[encoded data removed]"
          },
          "metadata": {}
        }
      ]
    },
    {
      "cell_type": "markdown",
      "source": [
        "위에서 가장 작은 cluster가 vote_count가 제일 높고, runtime 과 revenue가 가장 높은 movie cluster임. 따라서 이 cluster에 있는 영화 정보를 출력."
      ],
      "metadata": {
        "id": "-xhpwE6ZRC4z"
      }
    },
    {
      "cell_type": "code",
      "source": [
        "\n",
        "size_array = list(df_numeric.groupby(['cluster']).count()['budget'].values)\n",
        "print(\"size_array of cluster 0~4 : \",size_array)\n",
        "size_array=sorted(size_array)\n",
        "print(\"Sorted size_array         : \",size_array,\"\\n\")\n",
        "\n",
        "# 추천될 영화들이 들어있는 cluster의 data 출력(샘플 5개만)\n",
        "print(df_numeric[df_numeric['cluster']==size_array.index(size_array[0])].sample(5))\n",
        "\n"
      ],
      "metadata": {
        "colab": {
          "base_uri": "https://localhost:8080/"
        },
        "id": "5C4WsBMpRlbh",
        "outputId": "cd6bcebf-85f0-4d6f-a198-8161df340eca"
      },
      "execution_count": null,
      "outputs": [
        {
          "output_type": "stream",
          "name": "stdout",
          "text": [
            "size_array of cluster 0~4 :  [2273, 1107, 3744, 4801, 253]\n",
            "Sorted size_array         :  [253, 1107, 2273, 3744, 4801] \n",
            "\n",
            "         budget popularity     revenue  runtime  vote_average  vote_count  \\\n",
            "19956  30000000   3.835131    108348.0    125.0           5.0        41.0   \n",
            "26314         0   4.604124         0.0     89.0           5.5        34.0   \n",
            "32844         0   2.173072         0.0     85.0           4.7        35.0   \n",
            "5342   13000000   8.502529  37664855.0     94.0           4.5       230.0   \n",
            "15684  30000000   12.17886    967000.0     92.0           5.2       185.0   \n",
            "\n",
            "                         title  cluster  \n",
            "19956                     1911        0  \n",
            "26314              The Lookout        0  \n",
            "32844          Lost After Dark        0  \n",
            "5342   Halloween: Resurrection        0  \n",
            "15684                   TEKKEN        0  \n"
          ]
        }
      ]
    }
  ]
}