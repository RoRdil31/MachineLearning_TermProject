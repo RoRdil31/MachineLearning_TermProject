{
  "nbformat": 4,
  "nbformat_minor": 0,
  "metadata": {
    "colab": {
      "provenance": []
    },
    "kernelspec": {
      "name": "python3",
      "display_name": "Python 3"
    },
    "language_info": {
      "name": "python"
    }
  },
  "cells": [
    {
      "cell_type": "markdown",
      "source": [
        "< Machine Learning >\n",
        "\n",
        "Term Project : Recommendation System\n",
        "\n",
        "Collaborative Filtering : knn\n",
        "\n",
        "\n"
      ],
      "metadata": {
        "id": "Te633UC3lUg4"
      }
    },
    {
      "cell_type": "code",
      "execution_count": null,
      "metadata": {
        "colab": {
          "base_uri": "https://localhost:8080/",
          "height": 761
        },
        "id": "EeXvvU-JlFoO",
        "outputId": "e120eb4b-e794-487c-adf0-3c6232df8775"
      },
      "outputs": [
        {
          "output_type": "stream",
          "name": "stdout",
          "text": [
            "Unique Values for Each Column: \n",
            "userId      671\n",
            "movieId    9066\n",
            "rating       10\n",
            "dtype: int64 \n",
            "\n",
            "There are 100004 ratings in total \n",
            "\n",
            "df.head(2)\n",
            "    userId  movieId  rating\n",
            "0       1       31     2.5\n",
            "1       1     1029     3.0 \n",
            "\n",
            "\n",
            "Mean value is 3.54\n",
            "\n"
          ]
        },
        {
          "output_type": "execute_result",
          "data": {
            "text/plain": [
              "<Axes: title={'center': 'Rating Frequency Chart'}, ylabel='Frequency'>"
            ]
          },
          "metadata": {},
          "execution_count": 1
        },
        {
          "output_type": "display_data",
          "data": {
            "text/plain": [
              "<Figure size 640x480 with 1 Axes>"
            ],
            "image/png": "[encoded data removed]"
          },
          "metadata": {}
        }
      ],
      "source": [
        "import numpy as np\n",
        "import pandas as pd\n",
        "import matplotlib.pyplot as plt\n",
        "from collections import Counter\n",
        "from sklearn.neighbors import NearestNeighbors\n",
        "import warnings\n",
        "warnings.filterwarnings(\"ignore\")\n",
        "\n",
        "\n",
        "# Read ratings_small.csv\n",
        "df = pd. read_csv('ratings_small.csv')\n",
        "df.drop(['timestamp'], axis=1, inplace=True)\n",
        "df['movieId'] = df['movieId'].astype(int, errors='ignore')\n",
        "\n",
        "print(f'Unique Values for Each Column: \\n{df.apply(pd.Series.nunique)} \\n')\n",
        "print(f'There are {len(df)} ratings in total \\n')\n",
        "print(\"df.head(2)\\n\",df.head(2),\"\\n\\n\")\n",
        "\n",
        "df_mean = df['rating'].mean()\n",
        "print(f'Mean value is {df_mean:.2f}\\n')\n",
        "df['rating'].plot(kind='hist', bins=9, title='Rating Frequency Chart')\n",
        "\n"
      ]
    },
    {
      "cell_type": "code",
      "source": [
        "#@title Read movies_metadata.csv\n",
        "df_meta = pd.read_csv('movies_metadata.csv',\n",
        "                      on_bad_lines='skip', low_memory=False)\n",
        "\n",
        "df_meta.rename(columns={'id': 'tmdbId'}, inplace=True)\n",
        "df_meta[\"tmdbId\"] =pd.to_numeric(df_meta['tmdbId'], errors='coerce',downcast=\"integer\")\n",
        "\n"
      ],
      "metadata": {
        "id": "Lp_cREqHCdvz"
      },
      "execution_count": null,
      "outputs": []
    },
    {
      "cell_type": "code",
      "source": [
        "#@title Read movies_metadata.csv\n",
        "df_links = pd.read_csv('links_small.csv',\n",
        "                      on_bad_lines='skip', low_memory=False)\n",
        "df_links = df_links[['movieId', 'tmdbId']]\n",
        "df_links.drop_duplicates(subset=['tmdbId'], inplace=True)\n"
      ],
      "metadata": {
        "id": "xDPQ5K4SJ9fM"
      },
      "execution_count": null,
      "outputs": []
    },
    {
      "cell_type": "code",
      "source": [
        "#@title Merge df, df_meta, df_links. (최초 1회 실행시에만 오류 안 남.)\n",
        "\n",
        "# print(df_meta.head(2))\n",
        "# print()\n",
        "# print(df_links.head(2))\n",
        "\n",
        "df_meta = pd.merge(df_links, df_meta, how='inner', on='tmdbId')\n",
        "df_meta[\"movieId\"] =pd.to_numeric(df_meta['movieId'], errors='coerce',downcast=\"integer\")\n",
        "df_meta.dropna(subset=[\"movieId\"],inplace=True)\n",
        "\n",
        "# print(df_meta.head(2),\"\\n\\n\")\n",
        "\n",
        "df_meta = df_meta[['movieId',  'original_language', 'original_title', 'overview', 'revenue', 'runtime']]\n",
        "df = pd.merge(df, df_meta, on=\"movieId\",how=\"inner\")\n",
        "print(f'{df.info()}\\n')\n"
      ],
      "metadata": {
        "colab": {
          "base_uri": "https://localhost:8080/"
        },
        "id": "8ZNGwrt7KU3R",
        "outputId": "d5f6c3ee-eed7-472b-fb15-c8bb564e6232"
      },
      "execution_count": null,
      "outputs": [
        {
          "output_type": "stream",
          "name": "stdout",
          "text": [
            "<class 'pandas.core.frame.DataFrame'>\n",
            "Int64Index: 99985 entries, 0 to 99984\n",
            "Data columns (total 8 columns):\n",
            " #   Column             Non-Null Count  Dtype  \n",
            "---  ------             --------------  -----  \n",
            " 0   userId             99985 non-null  int64  \n",
            " 1   movieId            99985 non-null  int64  \n",
            " 2   rating             99985 non-null  float64\n",
            " 3   original_language  99985 non-null  object \n",
            " 4   original_title     99985 non-null  object \n",
            " 5   overview           99971 non-null  object \n",
            " 6   revenue            99850 non-null  float64\n",
            " 7   runtime            99850 non-null  float64\n",
            "dtypes: float64(3), int64(2), object(3)\n",
            "memory usage: 6.9+ MB\n",
            "None\n",
            "\n"
          ]
        }
      ]
    },
    {
      "cell_type": "code",
      "source": [
        "print(df.head(5))\n",
        "\n",
        "print(df['userId'].unique)\n",
        "\n",
        "user_groupby = pd.Series(Counter(df['userId']))\n",
        "print(\"\\n\\n\",user_groupby)\n",
        "\n",
        "\n",
        "movies_groupby = pd.Series(Counter(df['movieId']))\n",
        "print(\"\\n\\n\",movies_groupby)\n"
      ],
      "metadata": {
        "colab": {
          "base_uri": "https://localhost:8080/"
        },
        "id": "zhv4QAQS5Hc4",
        "outputId": "e90b1059-1364-4fce-f0e8-4745951fbdd4"
      },
      "execution_count": null,
      "outputs": [
        {
          "output_type": "stream",
          "name": "stdout",
          "text": [
            "   userId  movieId  rating original_language   original_title  \\\n",
            "0       1       31     2.5                en  Dangerous Minds   \n",
            "1       7       31     3.0                en  Dangerous Minds   \n",
            "2      31       31     4.0                en  Dangerous Minds   \n",
            "3      32       31     4.0                en  Dangerous Minds   \n",
            "4      36       31     3.0                en  Dangerous Minds   \n",
            "\n",
            "                                            overview      revenue  runtime  \n",
            "0  Former Marine Louanne Johnson lands a gig teac...  180000000.0     99.0  \n",
            "1  Former Marine Louanne Johnson lands a gig teac...  180000000.0     99.0  \n",
            "2  Former Marine Louanne Johnson lands a gig teac...  180000000.0     99.0  \n",
            "3  Former Marine Louanne Johnson lands a gig teac...  180000000.0     99.0  \n",
            "4  Former Marine Louanne Johnson lands a gig teac...  180000000.0     99.0  \n",
            "<bound method Series.unique of 0          1\n",
            "1          7\n",
            "2         31\n",
            "3         32\n",
            "4         36\n",
            "        ... \n",
            "99980    664\n",
            "99981    664\n",
            "99982    665\n",
            "99983    665\n",
            "99984    668\n",
            "Name: userId, Length: 99985, dtype: int64>\n",
            "\n",
            "\n",
            " 1       20\n",
            "7       90\n",
            "31      69\n",
            "32      48\n",
            "36     106\n",
            "      ... \n",
            "221     20\n",
            "45      21\n",
            "289     20\n",
            "444     20\n",
            "227     26\n",
            "Length: 671, dtype: int64\n",
            "\n",
            "\n",
            " 341\n"
          ]
        }
      ]
    },
    {
      "cell_type": "code",
      "source": [
        "#@title 언어가 'English'이고, 영화 평점을 많이 남긴 사람과 인기있는 영화만 남기고 전부 drop. (150번 초과 평가한 사람과 1000번 초과로 투표된 영화만)\n",
        "\n",
        "df.drop(df[df['original_language'] != 'en'].index, inplace=True)\n",
        "\n",
        "user_groupby = pd.Series(Counter(df['userId']))\n",
        "freq_voters = user_groupby.loc[lambda x : x > 50]\n",
        "print(f'In total, we will consider {freq_voters.size} voters as they voted for more than 150 movies')\n",
        "\n",
        "movies_groupby = pd.Series(Counter(df['movieId']))\n",
        "popular_movies = movies_groupby.loc[lambda x : x > 100]\n",
        "print(f'In total, we will consider {popular_movies.size} movies as they are voted by  more than 1000 users')\n",
        "\n",
        "freq_voters = np.array(freq_voters.index)\n",
        "popular_movies = np.array(popular_movies.index)\n",
        "\n",
        "\n",
        "\n",
        "\n",
        "df = df[df['userId'].isin(freq_voters)]\n",
        "df = df[df['movieId'].isin(popular_movies)]\n",
        "df.dropna(inplace=True)\n",
        "print(f'{df.info()}\\n')\n",
        "\n"
      ],
      "metadata": {
        "colab": {
          "base_uri": "https://localhost:8080/"
        },
        "id": "5wcu1nfSNiYO",
        "outputId": "31573d01-23ba-4134-8a40-897951b5623a"
      },
      "execution_count": null,
      "outputs": [
        {
          "output_type": "stream",
          "name": "stdout",
          "text": [
            "In total, we will consider 404 voters as they voted for more than 150 movies\n",
            "In total, we will consider 146 movies as they are voted by  more than 1000 users\n",
            "<class 'pandas.core.frame.DataFrame'>\n",
            "Int64Index: 18941 entries, 911 to 62129\n",
            "Data columns (total 8 columns):\n",
            " #   Column             Non-Null Count  Dtype  \n",
            "---  ------             --------------  -----  \n",
            " 0   userId             18941 non-null  int64  \n",
            " 1   movieId            18941 non-null  int64  \n",
            " 2   rating             18941 non-null  float64\n",
            " 3   original_language  18941 non-null  object \n",
            " 4   original_title     18941 non-null  object \n",
            " 5   overview           18941 non-null  object \n",
            " 6   revenue            18941 non-null  float64\n",
            " 7   runtime            18941 non-null  float64\n",
            "dtypes: float64(3), int64(2), object(3)\n",
            "memory usage: 1.3+ MB\n",
            "None\n",
            "\n"
          ]
        }
      ]
    },
    {
      "cell_type": "code",
      "source": [
        "#@title 흠.. knn이랑 매트릭스를 같이써서 콜라보로 봐야할 것 가ㅌ기도 한데,, 일단,,,,,, 킵,,,\n",
        "\n",
        "df_matrix =  df[['userId', 'original_title', 'rating']]\n",
        "rating_matrix = df_matrix.pivot_table(index='original_title',  columns='userId', values='rating')\n",
        "rating_matrix.info()\n",
        "# print(f'{rating_matrix.info()}\\n')\n",
        "\n",
        "rating_matrix_filled = rating_matrix.apply(lambda row: row.fillna(0), axis=1)\n",
        "# print(f'{rating_matrix_filled.info()}\\n')\n",
        "\n"
      ],
      "metadata": {
        "colab": {
          "base_uri": "https://localhost:8080/"
        },
        "id": "-Jd0nktp7kFg",
        "outputId": "4f02174e-e2f3-46bc-c097-a595b7981a8d"
      },
      "execution_count": null,
      "outputs": [
        {
          "output_type": "stream",
          "name": "stdout",
          "text": [
            "<class 'pandas.core.frame.DataFrame'>\n",
            "Index: 146 entries, 2001: A Space Odyssey to X-Men\n",
            "Columns: 404 entries, 2 to 671\n",
            "dtypes: float64(404)\n",
            "memory usage: 462.0+ KB\n"
          ]
        }
      ]
    },
    {
      "cell_type": "code",
      "source": [
        "#Training KNN model\n",
        "knn = NearestNeighbors(metric='cosine', algorithm='brute', n_neighbors=20, n_jobs=2)\n",
        "knn.fit(rating_matrix_filled)\n",
        "\n"
      ],
      "metadata": {
        "colab": {
          "base_uri": "https://localhost:8080/",
          "height": 74
        },
        "id": "hIZgTwZY7zPG",
        "outputId": "2d2b152c-0cab-4e02-e7fb-12639179cc68"
      },
      "execution_count": null,
      "outputs": [
        {
          "output_type": "execute_result",
          "data": {
            "text/plain": [
              "NearestNeighbors(algorithm='brute', metric='cosine', n_jobs=2, n_neighbors=20)"
            ],
            "text/html": [
              "<style>#sk-container-id-1 {color: black;background-color: white;}#sk-container-id-1 pre{padding: 0;}#sk-container-id-1 div.sk-toggleable {background-color: white;}#sk-container-id-1 label.sk-toggleable__label {cursor: pointer;display: block;width: 100%;margin-bottom: 0;padding: 0.3em;box-sizing: border-box;text-align: center;}#sk-container-id-1 label.sk-toggleable__label-arrow:before {content: \"▸\";float: left;margin-right: 0.25em;color: #696969;}#sk-container-id-1 label.sk-toggleable__label-arrow:hover:before {color: black;}#sk-container-id-1 div.sk-estimator:hover label.sk-toggleable__label-arrow:before {color: black;}#sk-container-id-1 div.sk-toggleable__content {max-height: 0;max-width: 0;overflow: hidden;text-align: left;background-color: #f0f8ff;}#sk-container-id-1 div.sk-toggleable__content pre {margin: 0.2em;color: black;border-radius: 0.25em;background-color: #f0f8ff;}#sk-container-id-1 input.sk-toggleable__control:checked~div.sk-toggleable__content {max-height: 200px;max-width: 100%;overflow: auto;}#sk-container-id-1 input.sk-toggleable__control:checked~label.sk-toggleable__label-arrow:before {content: \"▾\";}#sk-container-id-1 div.sk-estimator input.sk-toggleable__control:checked~label.sk-toggleable__label {background-color: #d4ebff;}#sk-container-id-1 div.sk-label input.sk-toggleable__control:checked~label.sk-toggleable__label {background-color: #d4ebff;}#sk-container-id-1 input.sk-hidden--visually {border: 0;clip: rect(1px 1px 1px 1px);clip: rect(1px, 1px, 1px, 1px);height: 1px;margin: -1px;overflow: hidden;padding: 0;position: absolute;width: 1px;}#sk-container-id-1 div.sk-estimator {font-family: monospace;background-color: #f0f8ff;border: 1px dotted black;border-radius: 0.25em;box-sizing: border-box;margin-bottom: 0.5em;}#sk-container-id-1 div.sk-estimator:hover {background-color: #d4ebff;}#sk-container-id-1 div.sk-parallel-item::after {content: \"\";width: 100%;border-bottom: 1px solid gray;flex-grow: 1;}#sk-container-id-1 div.sk-label:hover label.sk-toggleable__label {background-color: #d4ebff;}#sk-container-id-1 div.sk-serial::before {content: \"\";position: absolute;border-left: 1px solid gray;box-sizing: border-box;top: 0;bottom: 0;left: 50%;z-index: 0;}#sk-container-id-1 div.sk-serial {display: flex;flex-direction: column;align-items: center;background-color: white;padding-right: 0.2em;padding-left: 0.2em;position: relative;}#sk-container-id-1 div.sk-item {position: relative;z-index: 1;}#sk-container-id-1 div.sk-parallel {display: flex;align-items: stretch;justify-content: center;background-color: white;position: relative;}#sk-container-id-1 div.sk-item::before, #sk-container-id-1 div.sk-parallel-item::before {content: \"\";position: absolute;border-left: 1px solid gray;box-sizing: border-box;top: 0;bottom: 0;left: 50%;z-index: -1;}#sk-container-id-1 div.sk-parallel-item {display: flex;flex-direction: column;z-index: 1;position: relative;background-color: white;}#sk-container-id-1 div.sk-parallel-item:first-child::after {align-self: flex-end;width: 50%;}#sk-container-id-1 div.sk-parallel-item:last-child::after {align-self: flex-start;width: 50%;}#sk-container-id-1 div.sk-parallel-item:only-child::after {width: 0;}#sk-container-id-1 div.sk-dashed-wrapped {border: 1px dashed gray;margin: 0 0.4em 0.5em 0.4em;box-sizing: border-box;padding-bottom: 0.4em;background-color: white;}#sk-container-id-1 div.sk-label label {font-family: monospace;font-weight: bold;display: inline-block;line-height: 1.2em;}#sk-container-id-1 div.sk-label-container {text-align: center;}#sk-container-id-1 div.sk-container {/* jupyter's `normalize.less` sets `[hidden] { display: none; }` but bootstrap.min.css set `[hidden] { display: none !important; }` so we also need the `!important` here to be able to override the default hidden behavior on the sphinx rendered scikit-learn.org. See: https://github.com/scikit-learn/scikit-learn/issues/21755 */display: inline-block !important;position: relative;}#sk-container-id-1 div.sk-text-repr-fallback {display: none;}</style><div id=\"sk-container-id-1\" class=\"sk-top-container\"><div class=\"sk-text-repr-fallback\"><pre>NearestNeighbors(algorithm=&#x27;brute&#x27;, metric=&#x27;cosine&#x27;, n_jobs=2, n_neighbors=20)</pre><b>In a Jupyter environment, please rerun this cell to show the HTML representation or trust the notebook. <br />On GitHub, the HTML representation is unable to render, please try loading this page with nbviewer.org.</b></div><div class=\"sk-container\" hidden><div class=\"sk-item\"><div class=\"sk-estimator sk-toggleable\"><input class=\"sk-toggleable__control sk-hidden--visually\" id=\"sk-estimator-id-1\" type=\"checkbox\" checked><label for=\"sk-estimator-id-1\" class=\"sk-toggleable__label sk-toggleable__label-arrow\">NearestNeighbors</label><div class=\"sk-toggleable__content\"><pre>NearestNeighbors(algorithm=&#x27;brute&#x27;, metric=&#x27;cosine&#x27;, n_jobs=2, n_neighbors=20)</pre></div></div></div></div></div>"
            ]
          },
          "metadata": {},
          "execution_count": 20
        }
      ]
    },
    {
      "cell_type": "code",
      "source": [
        "#@title 영화 이름과 knn,matrix를 넘겨주면 영화 이름에 맞춰서 추천함.\n",
        "\n",
        "def movieRecommender(movie_name, knn, matrix):\n",
        "  try:\n",
        "    dist, idx = knn.kneighbors(matrix.loc[movie_name].values.reshape(1,-1),n_neighbors=20)\n",
        "    print(f'For your selection of {movie_name}, I will recommend \\n')\n",
        "    for i in range(1, len(dist.flatten())):\n",
        "      movie_name = matrix.index[idx.flatten()[i]]\n",
        "      print(f'{i}- {movie_name}, distance is {dist.flatten()[i]:.3f}')\n",
        "  except:\n",
        "    print(f'The movie {movie_name} is not in our database. \\n Please note that our database contains only popular movies up until mid 2017.')"
      ],
      "metadata": {
        "id": "Uvs2umvR8DIR"
      },
      "execution_count": null,
      "outputs": []
    },
    {
      "cell_type": "code",
      "source": [
        "#@title 배트맨 영화와 거리가 가까운 것들부터 추천. 다크 나이트, 반지의 제왕 등 유사한 영화를 잘 추천하는 것을 확인할 수 있음.\n",
        "\n",
        "movieRecommender('Batman Begins', knn, rating_matrix_filled)"
      ],
      "metadata": {
        "colab": {
          "base_uri": "https://localhost:8080/"
        },
        "id": "jALzUku682xv",
        "outputId": "7184577d-045d-4411-9096-449e455c1f66"
      },
      "execution_count": null,
      "outputs": [
        {
          "output_type": "stream",
          "name": "stdout",
          "text": [
            "For your selection of Batman Begins, I will recommend \n",
            "\n",
            "1- The Dark Knight, distance is 0.281\n",
            "2- The Lord of the Rings: The Two Towers, distance is 0.335\n",
            "3- The Lord of the Rings: The Return of the King, distance is 0.342\n",
            "4- The Incredibles, distance is 0.370\n",
            "5- Pirates of the Caribbean: The Curse of the Black Pearl, distance is 0.379\n",
            "6- The Lord of the Rings: The Fellowship of the Ring, distance is 0.382\n",
            "7- The Matrix, distance is 0.392\n",
            "8- Kill Bill: Vol. 1, distance is 0.415\n",
            "9- Fight Club, distance is 0.419\n",
            "10- Ocean's Eleven, distance is 0.428\n",
            "11- Kill Bill: Vol. 2, distance is 0.429\n",
            "12- Spider-Man, distance is 0.437\n",
            "13- Memento, distance is 0.450\n",
            "14- X-Men, distance is 0.450\n",
            "15- Monsters, Inc., distance is 0.452\n",
            "16- Inception, distance is 0.462\n",
            "17- Minority Report, distance is 0.465\n",
            "18- Finding Nemo, distance is 0.476\n",
            "19- Harry Potter and the Philosopher's Stone, distance is 0.480\n"
          ]
        }
      ]
    }
  ]
}